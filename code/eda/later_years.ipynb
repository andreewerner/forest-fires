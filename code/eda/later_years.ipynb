{
 "cells": [
  {
   "cell_type": "code",
   "execution_count": 10,
   "metadata": {
    "collapsed": false
   },
   "outputs": [],
   "source": [
    "import pickle"
   ]
  },
  {
   "cell_type": "markdown",
   "metadata": {},
   "source": [
    "There are three things that I want to check out here. The previous eda files have more or less been playing around \n",
    "with less clear purposes. \n",
    "\n",
    "1.) How does this data look - after contacting the forest services, I've been told that each row should be a fire\n",
    "dectected, and there should be four pictures for every long/lat. pair, correspond to 4 pictures in that given day. \n",
    "I need to verify that, and if it is true see how far back that works. \n",
    "\n",
    "2.) How does the confidence level range across fires in general, and then how about across the 4 pictures per day? Is there a good range of fire confidence level from 10-90%?\n",
    "\n",
    "3.) How am I going to group these fires from day to day - do I go out 0.01 degrees in each lat/long direction, 0.10 \n",
    "degrees, etc.? To look into this what I'm going to do is just cycle through a bunch of different values and see how many fires pop up within that many degrees. "
   ]
  },
  {
   "cell_type": "code",
   "execution_count": 31,
   "metadata": {
    "collapsed": false
   },
   "outputs": [],
   "source": [
    "def row_examination(df):\n",
    "    counts = df.groupby(['LAT', 'LONG', 'year', 'month', 'day']).count()\n",
    "    print 'Max. number of rows per lat/long coordinate: ', counts.max()[0]\n",
    "    print 'Min. number of rows per lat/long coordinate: ', counts.min()[0]\n",
    "    print 'Mean number of rows per lat/long coordinate: ', counts.mean()[0]"
   ]
  },
  {
   "cell_type": "code",
   "execution_count": 32,
   "metadata": {
    "collapsed": true
   },
   "outputs": [],
   "source": [
    "def conf_levels_examination(df): \n",
    "    print 'Confidence level info: ', df['CONF'].describe()"
   ]
  },
  {
   "cell_type": "code",
   "execution_count": 33,
   "metadata": {
    "collapsed": false
   },
   "outputs": [
    {
     "name": "stdout",
     "output_type": "stream",
     "text": [
      "Year:  2015\n",
      "--------------------------------------------------\n",
      "Max. number of rows per lat/long coordinate:  10\n",
      "Min. number of rows per lat/long coordinate:  1\n",
      "Mean number of rows per lat/long coordinate:  2.05243429241\n",
      "Confidence level info:  count    140171.000000\n",
      "mean         66.610961\n",
      "std          22.428298\n",
      "min           0.000000\n",
      "25%          52.000000\n",
      "50%          67.000000\n",
      "75%          84.000000\n",
      "max         100.000000\n",
      "Name: CONF, dtype: float64\n",
      "Year:  2014\n",
      "--------------------------------------------------\n",
      "Max. number of rows per lat/long coordinate:  7\n",
      "Min. number of rows per lat/long coordinate:  1\n",
      "Mean number of rows per lat/long coordinate:  2.07766551185\n",
      "Confidence level info:  count    229688.000000\n",
      "mean         68.196545\n",
      "std          21.343116\n",
      "min           0.000000\n",
      "25%          55.000000\n",
      "50%          70.000000\n",
      "75%          84.000000\n",
      "max         100.000000\n",
      "Name: CONF, dtype: float64\n",
      "Year:  2013\n",
      "--------------------------------------------------\n",
      "Max. number of rows per lat/long coordinate:  8\n",
      "Min. number of rows per lat/long coordinate:  1\n",
      "Mean number of rows per lat/long coordinate:  2.22563477505\n",
      "Confidence level info:  count    184425.000000\n",
      "mean         70.301510\n",
      "std          22.424611\n",
      "min           0.000000\n",
      "25%          55.000000\n",
      "50%          72.000000\n",
      "75%          89.000000\n",
      "max         100.000000\n",
      "Name: CONF, dtype: float64\n",
      "Year:  2012\n",
      "--------------------------------------------------\n",
      "Max. number of rows per lat/long coordinate:  8\n",
      "Min. number of rows per lat/long coordinate:  1\n",
      "Mean number of rows per lat/long coordinate:  1.7068337176\n",
      "Confidence level info:  count    252439.000000\n",
      "mean         73.482013\n",
      "std          23.562693\n",
      "min           0.000000\n",
      "25%          58.000000\n",
      "50%          77.000000\n",
      "75%          95.000000\n",
      "max         100.000000\n",
      "Name: CONF, dtype: float64\n",
      "Year:  2011\n",
      "--------------------------------------------------\n",
      "Max. number of rows per lat/long coordinate:  7\n",
      "Min. number of rows per lat/long coordinate:  1\n",
      "Mean number of rows per lat/long coordinate:  1.5921017095\n",
      "Confidence level info:  count    159164.000000\n",
      "mean         71.771041\n",
      "std          21.999171\n",
      "min           0.000000\n",
      "25%          58.000000\n",
      "50%          74.000000\n",
      "75%          90.000000\n",
      "max         100.000000\n",
      "Name: CONF, dtype: float64\n",
      "Year:  2010\n",
      "--------------------------------------------------\n",
      "Max. number of rows per lat/long coordinate:  6\n",
      "Min. number of rows per lat/long coordinate:  1\n",
      "Mean number of rows per lat/long coordinate:  2.02070056358\n",
      "Confidence level info:  count    131586.000000\n",
      "mean         68.515108\n",
      "std          19.981432\n",
      "min           0.000000\n",
      "25%          56.000000\n",
      "50%          70.000000\n",
      "75%          83.000000\n",
      "max         100.000000\n",
      "Name: CONF, dtype: float64\n",
      "Year:  2009\n",
      "--------------------------------------------------\n",
      "Max. number of rows per lat/long coordinate:  6\n",
      "Min. number of rows per lat/long coordinate:  1\n",
      "Mean number of rows per lat/long coordinate:  2.02131120488\n",
      "Confidence level info:  count    171484.000000\n",
      "mean         68.954025\n",
      "std          21.204471\n",
      "min           0.000000\n",
      "25%          55.000000\n",
      "50%          71.000000\n",
      "75%          85.000000\n",
      "max         100.000000\n",
      "Name: CONF, dtype: float64\n",
      "Year:  2008\n",
      "--------------------------------------------------\n",
      "Max. number of rows per lat/long coordinate:  2\n",
      "Min. number of rows per lat/long coordinate:  1\n",
      "Mean number of rows per lat/long coordinate:  1.00093257484\n",
      "Confidence level info:  count    85864.000000\n",
      "mean        69.652707\n",
      "std         22.010853\n",
      "min          0.000000\n",
      "25%         55.000000\n",
      "50%         72.000000\n",
      "75%         87.000000\n",
      "max        100.000000\n",
      "Name: CONF, dtype: float64\n",
      "Year:  2007\n",
      "--------------------------------------------------\n",
      "Max. number of rows per lat/long coordinate:  2\n",
      "Min. number of rows per lat/long coordinate:  1\n",
      "Mean number of rows per lat/long coordinate:  1.00114131665\n",
      "Confidence level info:  count    101753.000000\n",
      "mean         71.766228\n",
      "std          22.950290\n",
      "min           0.000000\n",
      "25%          57.000000\n",
      "50%          74.000000\n",
      "75%          92.000000\n",
      "max         100.000000\n",
      "Name: CONF, dtype: float64\n",
      "Year:  2006\n",
      "--------------------------------------------------\n",
      "Max. number of rows per lat/long coordinate:  3\n",
      "Min. number of rows per lat/long coordinate:  1\n",
      "Mean number of rows per lat/long coordinate:  1.00112784013\n",
      "Confidence level info:  count    91428.000000\n",
      "mean        71.065724\n",
      "std         22.361650\n",
      "min          0.000000\n",
      "25%         56.000000\n",
      "50%         73.000000\n",
      "75%         90.000000\n",
      "max        100.000000\n",
      "Name: CONF, dtype: float64\n",
      "Year:  2005\n",
      "--------------------------------------------------\n",
      "Max. number of rows per lat/long coordinate:  2\n",
      "Min. number of rows per lat/long coordinate:  1\n",
      "Mean number of rows per lat/long coordinate:  1.00068304216\n",
      "Confidence level info:  count    76182.000000\n",
      "mean        68.887624\n",
      "std         21.135899\n",
      "min          0.000000\n",
      "25%         55.000000\n",
      "50%         71.000000\n",
      "75%         85.000000\n",
      "max        100.000000\n",
      "Name: CONF, dtype: float64\n",
      "Year:  2004\n",
      "--------------------------------------------------\n",
      "Max. number of rows per lat/long coordinate:  2\n",
      "Min. number of rows per lat/long coordinate:  1\n",
      "Mean number of rows per lat/long coordinate:  1.00060698554\n",
      "Confidence level info:  count    57697.000000\n",
      "mean        68.253150\n",
      "std         21.299174\n",
      "min          0.000000\n",
      "25%         55.000000\n",
      "50%         70.000000\n",
      "75%         84.000000\n",
      "max        100.000000\n",
      "Name: CONF, dtype: float64\n",
      "Year:  2003\n",
      "--------------------------------------------------\n",
      "Max. number of rows per lat/long coordinate:  2\n",
      "Min. number of rows per lat/long coordinate:  1\n",
      "Mean number of rows per lat/long coordinate:  1.00131260711\n",
      "Confidence level info:  count    82387.00000\n",
      "mean        70.49032\n",
      "std         22.46276\n",
      "min          0.00000\n",
      "25%         56.00000\n",
      "50%         73.00000\n",
      "75%         89.00000\n",
      "max        100.00000\n",
      "Name: CONF, dtype: float64\n"
     ]
    }
   ],
   "source": [
    "for year in xrange(2015, 2002, -1): \n",
    "    with open('../../../data/pickled_data/MODIS/df_' + str(year) + '.pkl') as f: \n",
    "        df = pickle.load(f)\n",
    "        print 'Year: ', str(year)\n",
    "        print '-' * 50, '\\n'\n",
    "        row_examination(df)\n",
    "        conf_levels_examination(df)"
   ]
  },
  {
   "cell_type": "code",
   "execution_count": 12,
   "metadata": {
    "collapsed": false
   },
   "outputs": [
    {
     "data": {
      "text/plain": [
       "Index([u'AREA', u'PERIMETER', u'FIRE_', u'FIRE_ID', u'LAT', u'LONG', u'JULIAN',\n",
       "       u'GMT', u'TEMP', u'SPIX', u'TPIX', u'SAT_SRC', u'CONF', u'FRP', u'year',\n",
       "       u'month', u'day'],\n",
       "      dtype='object')"
      ]
     },
     "execution_count": 12,
     "metadata": {},
     "output_type": "execute_result"
    }
   ],
   "source": [
    "df.columns"
   ]
  },
  {
   "cell_type": "code",
   "execution_count": 28,
   "metadata": {
    "collapsed": false
   },
   "outputs": [
    {
     "data": {
      "text/plain": [
       "count    82387.00000\n",
       "mean        70.49032\n",
       "std         22.46276\n",
       "min          0.00000\n",
       "25%         56.00000\n",
       "50%         73.00000\n",
       "75%         89.00000\n",
       "max        100.00000\n",
       "Name: CONF, dtype: float64"
      ]
     },
     "execution_count": 28,
     "metadata": {},
     "output_type": "execute_result"
    }
   ],
   "source": [
    "df['CONF'].describe()"
   ]
  },
  {
   "cell_type": "code",
   "execution_count": null,
   "metadata": {
    "collapsed": true
   },
   "outputs": [],
   "source": []
  }
 ],
 "metadata": {
  "kernelspec": {
   "display_name": "Python 2",
   "language": "python",
   "name": "python2"
  },
  "language_info": {
   "codemirror_mode": {
    "name": "ipython",
    "version": 2
   },
   "file_extension": ".py",
   "mimetype": "text/x-python",
   "name": "python",
   "nbconvert_exporter": "python",
   "pygments_lexer": "ipython2",
   "version": "2.7.10"
  }
 },
 "nbformat": 4,
 "nbformat_minor": 0
}
