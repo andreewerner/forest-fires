{
 "cells": [
  {
   "cell_type": "code",
   "execution_count": null,
   "metadata": {
    "collapsed": true
   },
   "outputs": [],
   "source": [
    "# From the 2008 to 2009 MODIS data, a couple of the variables change. Some of the names change, and \n",
    "# a variable are two that are in the 2008 data aren't in the 2009 data, and vice versa. The purpose of \n",
    "# this .ipynb is to examine these changes and try to decide how I'm going to handle these changes so that \n",
    "# I can still use all years of the data, rather than losing 2001-2008. "
   ]
  },
  {
   "cell_type": "code",
   "execution_count": null,
   "metadata": {
    "collapsed": false
   },
   "outputs": [],
   "source": [
    "import shapefile\n",
    "import pandas as pd\n",
    "import os\n",
    "import numpy as np"
   ]
  },
  {
   "cell_type": "code",
   "execution_count": null,
   "metadata": {
    "collapsed": false
   },
   "outputs": [],
   "source": [
    "os.chdir('/Users/sallamander/galvanize/forest-fires/forest-fires/code')"
   ]
  },
  {
   "cell_type": "code",
   "execution_count": null,
   "metadata": {
    "collapsed": false
   },
   "outputs": [],
   "source": [
    "from read_data import read_file, get_basefile_name"
   ]
  },
  {
   "cell_type": "code",
   "execution_count": null,
   "metadata": {
    "collapsed": false
   },
   "outputs": [],
   "source": [
    "for year in xrange(2001, 2016):\n",
    "    basefile_name = get_basefile_name(year)\n",
    "    exec('shapefile_df_' + str(year) + ' = read_file(year, basefile_name)')"
   ]
  },
  {
   "cell_type": "code",
   "execution_count": null,
   "metadata": {
    "collapsed": false
   },
   "outputs": [],
   "source": [
    "shapefile_df_2008.head(5)"
   ]
  },
  {
   "cell_type": "code",
   "execution_count": null,
   "metadata": {
    "collapsed": false,
    "scrolled": true
   },
   "outputs": [],
   "source": [
    "shapefile_df_2009.head(5)"
   ]
  },
  {
   "cell_type": "code",
   "execution_count": null,
   "metadata": {
    "collapsed": false
   },
   "outputs": [],
   "source": [
    "shapefile_df_2008.describe()"
   ]
  },
  {
   "cell_type": "code",
   "execution_count": null,
   "metadata": {
    "collapsed": false
   },
   "outputs": [],
   "source": [
    "shapefile_df_2009.describe()"
   ]
  },
  {
   "cell_type": "markdown",
   "metadata": {},
   "source": [
    "The distribution of T21 looks to match up almost exactly to TEMP, so I am going to use that for the TEMP variable \n",
    "prior to 2009. The 2008 SATELLITE variable corresponds to to the SAT_SRC in 2009+, and the SRC variable in 2009+ \n",
    "appears for now to be useless (it doesn't exist prior to 2008). The JDATE prior to 2008 needs to be parsed - it holds the year plus the part that I want. The FRP looks odd in 2009 - the mean is negative, which is most likely due to the \n",
    "many negative values (-9999). I need to look into that. "
   ]
  },
  {
   "cell_type": "code",
   "execution_count": null,
   "metadata": {
    "collapsed": false
   },
   "outputs": [],
   "source": [
    "mask = shapefile_df_2009.eval('FRP == -9999')\n",
    "np.unique(shapefile_df_2009[mask]['SRC'])"
   ]
  },
  {
   "cell_type": "markdown",
   "metadata": {},
   "source": [
    "Per the above, all of the -9999 values for FRP are coming from rows where the source is gsfc, or the NASA-Goddard Space Flight Center MODIS Rapid Response System. Let's see if this is true in other years. "
   ]
  },
  {
   "cell_type": "code",
   "execution_count": null,
   "metadata": {
    "collapsed": false
   },
   "outputs": [],
   "source": [
    "for year in xrange(2009, 2016): \n",
    "    mask = eval(\"shapefile_df_\" + str(year) + \".eval('FRP == -9999')\")\n",
    "    print np.unique(eval(\"shapefile_df_\" + str(year) + \"[mask]['SRC']\"))"
   ]
  },
  {
   "cell_type": "code",
   "execution_count": null,
   "metadata": {
    "collapsed": false
   },
   "outputs": [],
   "source": [
    "# Let's see if there just aren't any -9999 values in 2011+ (as the above seems to indicate). \n",
    "shapefile_df_2015['FRP'].describe()"
   ]
  },
  {
   "cell_type": "code",
   "execution_count": null,
   "metadata": {
    "collapsed": false
   },
   "outputs": [],
   "source": [
    "# Is the GSFC SRC not present in 2011+?\n",
    "np.unique(shapefile_df_2015['SRC'])\n",
    "\n",
    "# It's present in all years... I'll have to look into raw satellite data to figure out what's going on with \n",
    "# those -9999 values. "
   ]
  },
  {
   "cell_type": "code",
   "execution_count": null,
   "metadata": {
    "collapsed": false
   },
   "outputs": [],
   "source": [
    "# Are there other characteristics of those obs. that will distinguish them? Maybe time, location, something?\n",
    "mask = shapefile_df_2009['FRP'] == -9999\n",
    "shapefile_df_2009[mask].describe()"
   ]
  },
  {
   "cell_type": "code",
   "execution_count": null,
   "metadata": {
    "collapsed": false
   },
   "outputs": [],
   "source": [
    "mask"
   ]
  },
  {
   "cell_type": "code",
   "execution_count": null,
   "metadata": {
    "collapsed": false
   },
   "outputs": [],
   "source": [
    "mask_opposite = 1 - mask\n",
    "mask_opposite"
   ]
  },
  {
   "cell_type": "code",
   "execution_count": null,
   "metadata": {
    "collapsed": true
   },
   "outputs": [],
   "source": []
  }
 ],
 "metadata": {
  "kernelspec": {
   "display_name": "Python 2",
   "language": "python",
   "name": "python2"
  },
  "language_info": {
   "codemirror_mode": {
    "name": "ipython",
    "version": 2
   },
   "file_extension": ".py",
   "mimetype": "text/x-python",
   "name": "python",
   "nbconvert_exporter": "python",
   "pygments_lexer": "ipython2",
   "version": "2.7.10"
  }
 },
 "nbformat": 4,
 "nbformat_minor": 0
}
