{
 "cells": [
  {
   "cell_type": "code",
   "execution_count": 13,
   "metadata": {
    "collapsed": true
   },
   "outputs": [],
   "source": [
    "# From the 2008 to 2009 MODIS data, a couple of the variables change. Some of the names change, and \n",
    "# a variable are two that are in the 2008 data aren't in the 2009 data, and vice versa. The purpose of \n",
    "# this .ipynb is to examine these changes and try to decide how I'm going to handle these changes so that \n",
    "# I can still use all years of the data, rather than losing 2001-2008. "
   ]
  },
  {
   "cell_type": "code",
   "execution_count": 14,
   "metadata": {
    "collapsed": false
   },
   "outputs": [],
   "source": [
    "import shapefile\n",
    "import pandas as pd\n",
    "import os\n",
    "import numpy as np"
   ]
  },
  {
   "cell_type": "code",
   "execution_count": 15,
   "metadata": {
    "collapsed": false
   },
   "outputs": [],
   "source": [
    "os.chdir('/Users/sallamander/galvanize/forest-fires/forest-fires/code')"
   ]
  },
  {
   "cell_type": "code",
   "execution_count": 16,
   "metadata": {
    "collapsed": false
   },
   "outputs": [],
   "source": [
    "from read_data import read_file, get_basefile_name"
   ]
  },
  {
   "cell_type": "code",
   "execution_count": 17,
   "metadata": {
    "collapsed": false
   },
   "outputs": [],
   "source": [
    "for year in xrange(2001, 2016):\n",
    "    basefile_name = get_basefile_name(year)\n",
    "    exec('shapefile_df_' + str(year) + ' = read_file(year, basefile_name)')"
   ]
  },
  {
   "cell_type": "code",
   "execution_count": 18,
   "metadata": {
    "collapsed": false
   },
   "outputs": [
    {
     "data": {
      "text/html": [
       "<div>\n",
       "<table border=\"1\" class=\"dataframe\">\n",
       "  <thead>\n",
       "    <tr style=\"text-align: right;\">\n",
       "      <th></th>\n",
       "      <th>AREA</th>\n",
       "      <th>PERIMETER</th>\n",
       "      <th>FIRE_</th>\n",
       "      <th>FIRE_ID</th>\n",
       "      <th>LAT</th>\n",
       "      <th>LONG</th>\n",
       "      <th>TEMP</th>\n",
       "      <th>SPIX</th>\n",
       "      <th>TPIX</th>\n",
       "      <th>DATE</th>\n",
       "      <th>GMT</th>\n",
       "      <th>SATELLITE</th>\n",
       "      <th>FRP</th>\n",
       "      <th>CONFIDENCE</th>\n",
       "      <th>JULIAN</th>\n",
       "      <th>year</th>\n",
       "    </tr>\n",
       "  </thead>\n",
       "  <tbody>\n",
       "    <tr>\n",
       "      <th>0</th>\n",
       "      <td>0.000000E+000</td>\n",
       "      <td>0.000000E+000</td>\n",
       "      <td>1</td>\n",
       "      <td>2744368</td>\n",
       "      <td>49.456</td>\n",
       "      <td>-97.233</td>\n",
       "      <td>314.3</td>\n",
       "      <td>2.9</td>\n",
       "      <td>1.6</td>\n",
       "      <td>[2008, 8, 29]</td>\n",
       "      <td>1837</td>\n",
       "      <td>A</td>\n",
       "      <td>56.5</td>\n",
       "      <td>61</td>\n",
       "      <td>242</td>\n",
       "      <td>2008</td>\n",
       "    </tr>\n",
       "    <tr>\n",
       "      <th>1</th>\n",
       "      <td>0.000000E+000</td>\n",
       "      <td>0.000000E+000</td>\n",
       "      <td>2</td>\n",
       "      <td>3592281</td>\n",
       "      <td>49.454</td>\n",
       "      <td>-118.294</td>\n",
       "      <td>314.9</td>\n",
       "      <td>1.5</td>\n",
       "      <td>1.2</td>\n",
       "      <td>[2008, 10, 23]</td>\n",
       "      <td>1835</td>\n",
       "      <td>T</td>\n",
       "      <td>46.8</td>\n",
       "      <td>62</td>\n",
       "      <td>297</td>\n",
       "      <td>2008</td>\n",
       "    </tr>\n",
       "    <tr>\n",
       "      <th>2</th>\n",
       "      <td>0.000000E+000</td>\n",
       "      <td>0.000000E+000</td>\n",
       "      <td>3</td>\n",
       "      <td>3572566</td>\n",
       "      <td>49.453</td>\n",
       "      <td>-118.194</td>\n",
       "      <td>315.0</td>\n",
       "      <td>1.1</td>\n",
       "      <td>1.1</td>\n",
       "      <td>[2008, 10, 21]</td>\n",
       "      <td>1848</td>\n",
       "      <td>T</td>\n",
       "      <td>31.1</td>\n",
       "      <td>63</td>\n",
       "      <td>295</td>\n",
       "      <td>2008</td>\n",
       "    </tr>\n",
       "    <tr>\n",
       "      <th>3</th>\n",
       "      <td>0.000000E+000</td>\n",
       "      <td>0.000000E+000</td>\n",
       "      <td>4</td>\n",
       "      <td>1297172</td>\n",
       "      <td>49.451</td>\n",
       "      <td>-104.505</td>\n",
       "      <td>311.9</td>\n",
       "      <td>1.8</td>\n",
       "      <td>1.3</td>\n",
       "      <td>[2008, 5, 10]</td>\n",
       "      <td>1734</td>\n",
       "      <td>T</td>\n",
       "      <td>15.8</td>\n",
       "      <td>32</td>\n",
       "      <td>131</td>\n",
       "      <td>2008</td>\n",
       "    </tr>\n",
       "    <tr>\n",
       "      <th>4</th>\n",
       "      <td>0.000000E+000</td>\n",
       "      <td>0.000000E+000</td>\n",
       "      <td>5</td>\n",
       "      <td>3397967</td>\n",
       "      <td>49.451</td>\n",
       "      <td>-97.114</td>\n",
       "      <td>324.7</td>\n",
       "      <td>1.4</td>\n",
       "      <td>1.2</td>\n",
       "      <td>[2008, 10, 4]</td>\n",
       "      <td>1951</td>\n",
       "      <td>A</td>\n",
       "      <td>45.4</td>\n",
       "      <td>78</td>\n",
       "      <td>278</td>\n",
       "      <td>2008</td>\n",
       "    </tr>\n",
       "  </tbody>\n",
       "</table>\n",
       "</div>"
      ],
      "text/plain": [
       "            AREA      PERIMETER  FIRE_  FIRE_ID     LAT     LONG   TEMP  SPIX  \\\n",
       "0  0.000000E+000  0.000000E+000      1  2744368  49.456  -97.233  314.3   2.9   \n",
       "1  0.000000E+000  0.000000E+000      2  3592281  49.454 -118.294  314.9   1.5   \n",
       "2  0.000000E+000  0.000000E+000      3  3572566  49.453 -118.194  315.0   1.1   \n",
       "3  0.000000E+000  0.000000E+000      4  1297172  49.451 -104.505  311.9   1.8   \n",
       "4  0.000000E+000  0.000000E+000      5  3397967  49.451  -97.114  324.7   1.4   \n",
       "\n",
       "   TPIX            DATE   GMT SATELLITE   FRP  CONFIDENCE  JULIAN  year  \n",
       "0   1.6   [2008, 8, 29]  1837         A  56.5          61     242  2008  \n",
       "1   1.2  [2008, 10, 23]  1835         T  46.8          62     297  2008  \n",
       "2   1.1  [2008, 10, 21]  1848         T  31.1          63     295  2008  \n",
       "3   1.3   [2008, 5, 10]  1734         T  15.8          32     131  2008  \n",
       "4   1.2   [2008, 10, 4]  1951         A  45.4          78     278  2008  "
      ]
     },
     "execution_count": 18,
     "metadata": {},
     "output_type": "execute_result"
    }
   ],
   "source": [
    "shapefile_df_2008.head(5)"
   ]
  },
  {
   "cell_type": "code",
   "execution_count": 24,
   "metadata": {
    "collapsed": false,
    "scrolled": true
   },
   "outputs": [
    {
     "ename": "KeyError",
     "evalue": "'SRC'",
     "output_type": "error",
     "traceback": [
      "\u001b[0;31m---------------------------------------------------------------------------\u001b[0m",
      "\u001b[0;31mKeyError\u001b[0m                                  Traceback (most recent call last)",
      "\u001b[0;32m<ipython-input-24-efc181716f4d>\u001b[0m in \u001b[0;36m<module>\u001b[0;34m()\u001b[0m\n\u001b[0;32m----> 1\u001b[0;31m \u001b[0mshapefile_df_2009\u001b[0m\u001b[0;34m[\u001b[0m\u001b[0;34m'SRC'\u001b[0m\u001b[0;34m]\u001b[0m\u001b[0;34m\u001b[0m\u001b[0m\n\u001b[0m",
      "\u001b[0;32m/Users/sallamander/anaconda/lib/python2.7/site-packages/pandas/core/frame.pyc\u001b[0m in \u001b[0;36m__getitem__\u001b[0;34m(self, key)\u001b[0m\n\u001b[1;32m   1795\u001b[0m             \u001b[0;32mreturn\u001b[0m \u001b[0mself\u001b[0m\u001b[0;34m.\u001b[0m\u001b[0m_getitem_multilevel\u001b[0m\u001b[0;34m(\u001b[0m\u001b[0mkey\u001b[0m\u001b[0;34m)\u001b[0m\u001b[0;34m\u001b[0m\u001b[0m\n\u001b[1;32m   1796\u001b[0m         \u001b[0;32melse\u001b[0m\u001b[0;34m:\u001b[0m\u001b[0;34m\u001b[0m\u001b[0m\n\u001b[0;32m-> 1797\u001b[0;31m             \u001b[0;32mreturn\u001b[0m \u001b[0mself\u001b[0m\u001b[0;34m.\u001b[0m\u001b[0m_getitem_column\u001b[0m\u001b[0;34m(\u001b[0m\u001b[0mkey\u001b[0m\u001b[0;34m)\u001b[0m\u001b[0;34m\u001b[0m\u001b[0m\n\u001b[0m\u001b[1;32m   1798\u001b[0m \u001b[0;34m\u001b[0m\u001b[0m\n\u001b[1;32m   1799\u001b[0m     \u001b[0;32mdef\u001b[0m \u001b[0m_getitem_column\u001b[0m\u001b[0;34m(\u001b[0m\u001b[0mself\u001b[0m\u001b[0;34m,\u001b[0m \u001b[0mkey\u001b[0m\u001b[0;34m)\u001b[0m\u001b[0;34m:\u001b[0m\u001b[0;34m\u001b[0m\u001b[0m\n",
      "\u001b[0;32m/Users/sallamander/anaconda/lib/python2.7/site-packages/pandas/core/frame.pyc\u001b[0m in \u001b[0;36m_getitem_column\u001b[0;34m(self, key)\u001b[0m\n\u001b[1;32m   1802\u001b[0m         \u001b[0;31m# get column\u001b[0m\u001b[0;34m\u001b[0m\u001b[0;34m\u001b[0m\u001b[0m\n\u001b[1;32m   1803\u001b[0m         \u001b[0;32mif\u001b[0m \u001b[0mself\u001b[0m\u001b[0;34m.\u001b[0m\u001b[0mcolumns\u001b[0m\u001b[0;34m.\u001b[0m\u001b[0mis_unique\u001b[0m\u001b[0;34m:\u001b[0m\u001b[0;34m\u001b[0m\u001b[0m\n\u001b[0;32m-> 1804\u001b[0;31m             \u001b[0;32mreturn\u001b[0m \u001b[0mself\u001b[0m\u001b[0;34m.\u001b[0m\u001b[0m_get_item_cache\u001b[0m\u001b[0;34m(\u001b[0m\u001b[0mkey\u001b[0m\u001b[0;34m)\u001b[0m\u001b[0;34m\u001b[0m\u001b[0m\n\u001b[0m\u001b[1;32m   1805\u001b[0m \u001b[0;34m\u001b[0m\u001b[0m\n\u001b[1;32m   1806\u001b[0m         \u001b[0;31m# duplicate columns & possible reduce dimensionaility\u001b[0m\u001b[0;34m\u001b[0m\u001b[0;34m\u001b[0m\u001b[0m\n",
      "\u001b[0;32m/Users/sallamander/anaconda/lib/python2.7/site-packages/pandas/core/generic.pyc\u001b[0m in \u001b[0;36m_get_item_cache\u001b[0;34m(self, item)\u001b[0m\n\u001b[1;32m   1082\u001b[0m         \u001b[0mres\u001b[0m \u001b[0;34m=\u001b[0m \u001b[0mcache\u001b[0m\u001b[0;34m.\u001b[0m\u001b[0mget\u001b[0m\u001b[0;34m(\u001b[0m\u001b[0mitem\u001b[0m\u001b[0;34m)\u001b[0m\u001b[0;34m\u001b[0m\u001b[0m\n\u001b[1;32m   1083\u001b[0m         \u001b[0;32mif\u001b[0m \u001b[0mres\u001b[0m \u001b[0;32mis\u001b[0m \u001b[0mNone\u001b[0m\u001b[0;34m:\u001b[0m\u001b[0;34m\u001b[0m\u001b[0m\n\u001b[0;32m-> 1084\u001b[0;31m             \u001b[0mvalues\u001b[0m \u001b[0;34m=\u001b[0m \u001b[0mself\u001b[0m\u001b[0;34m.\u001b[0m\u001b[0m_data\u001b[0m\u001b[0;34m.\u001b[0m\u001b[0mget\u001b[0m\u001b[0;34m(\u001b[0m\u001b[0mitem\u001b[0m\u001b[0;34m)\u001b[0m\u001b[0;34m\u001b[0m\u001b[0m\n\u001b[0m\u001b[1;32m   1085\u001b[0m             \u001b[0mres\u001b[0m \u001b[0;34m=\u001b[0m \u001b[0mself\u001b[0m\u001b[0;34m.\u001b[0m\u001b[0m_box_item_values\u001b[0m\u001b[0;34m(\u001b[0m\u001b[0mitem\u001b[0m\u001b[0;34m,\u001b[0m \u001b[0mvalues\u001b[0m\u001b[0;34m)\u001b[0m\u001b[0;34m\u001b[0m\u001b[0m\n\u001b[1;32m   1086\u001b[0m             \u001b[0mcache\u001b[0m\u001b[0;34m[\u001b[0m\u001b[0mitem\u001b[0m\u001b[0;34m]\u001b[0m \u001b[0;34m=\u001b[0m \u001b[0mres\u001b[0m\u001b[0;34m\u001b[0m\u001b[0m\n",
      "\u001b[0;32m/Users/sallamander/anaconda/lib/python2.7/site-packages/pandas/core/internals.pyc\u001b[0m in \u001b[0;36mget\u001b[0;34m(self, item, fastpath)\u001b[0m\n\u001b[1;32m   2849\u001b[0m \u001b[0;34m\u001b[0m\u001b[0m\n\u001b[1;32m   2850\u001b[0m             \u001b[0;32mif\u001b[0m \u001b[0;32mnot\u001b[0m \u001b[0misnull\u001b[0m\u001b[0;34m(\u001b[0m\u001b[0mitem\u001b[0m\u001b[0;34m)\u001b[0m\u001b[0;34m:\u001b[0m\u001b[0;34m\u001b[0m\u001b[0m\n\u001b[0;32m-> 2851\u001b[0;31m                 \u001b[0mloc\u001b[0m \u001b[0;34m=\u001b[0m \u001b[0mself\u001b[0m\u001b[0;34m.\u001b[0m\u001b[0mitems\u001b[0m\u001b[0;34m.\u001b[0m\u001b[0mget_loc\u001b[0m\u001b[0;34m(\u001b[0m\u001b[0mitem\u001b[0m\u001b[0;34m)\u001b[0m\u001b[0;34m\u001b[0m\u001b[0m\n\u001b[0m\u001b[1;32m   2852\u001b[0m             \u001b[0;32melse\u001b[0m\u001b[0;34m:\u001b[0m\u001b[0;34m\u001b[0m\u001b[0m\n\u001b[1;32m   2853\u001b[0m                 \u001b[0mindexer\u001b[0m \u001b[0;34m=\u001b[0m \u001b[0mnp\u001b[0m\u001b[0;34m.\u001b[0m\u001b[0marange\u001b[0m\u001b[0;34m(\u001b[0m\u001b[0mlen\u001b[0m\u001b[0;34m(\u001b[0m\u001b[0mself\u001b[0m\u001b[0;34m.\u001b[0m\u001b[0mitems\u001b[0m\u001b[0;34m)\u001b[0m\u001b[0;34m)\u001b[0m\u001b[0;34m[\u001b[0m\u001b[0misnull\u001b[0m\u001b[0;34m(\u001b[0m\u001b[0mself\u001b[0m\u001b[0;34m.\u001b[0m\u001b[0mitems\u001b[0m\u001b[0;34m)\u001b[0m\u001b[0;34m]\u001b[0m\u001b[0;34m\u001b[0m\u001b[0m\n",
      "\u001b[0;32m/Users/sallamander/anaconda/lib/python2.7/site-packages/pandas/core/index.pyc\u001b[0m in \u001b[0;36mget_loc\u001b[0;34m(self, key, method)\u001b[0m\n\u001b[1;32m   1570\u001b[0m         \"\"\"\n\u001b[1;32m   1571\u001b[0m         \u001b[0;32mif\u001b[0m \u001b[0mmethod\u001b[0m \u001b[0;32mis\u001b[0m \u001b[0mNone\u001b[0m\u001b[0;34m:\u001b[0m\u001b[0;34m\u001b[0m\u001b[0m\n\u001b[0;32m-> 1572\u001b[0;31m             \u001b[0;32mreturn\u001b[0m \u001b[0mself\u001b[0m\u001b[0;34m.\u001b[0m\u001b[0m_engine\u001b[0m\u001b[0;34m.\u001b[0m\u001b[0mget_loc\u001b[0m\u001b[0;34m(\u001b[0m\u001b[0m_values_from_object\u001b[0m\u001b[0;34m(\u001b[0m\u001b[0mkey\u001b[0m\u001b[0;34m)\u001b[0m\u001b[0;34m)\u001b[0m\u001b[0;34m\u001b[0m\u001b[0m\n\u001b[0m\u001b[1;32m   1573\u001b[0m \u001b[0;34m\u001b[0m\u001b[0m\n\u001b[1;32m   1574\u001b[0m         \u001b[0mindexer\u001b[0m \u001b[0;34m=\u001b[0m \u001b[0mself\u001b[0m\u001b[0;34m.\u001b[0m\u001b[0mget_indexer\u001b[0m\u001b[0;34m(\u001b[0m\u001b[0;34m[\u001b[0m\u001b[0mkey\u001b[0m\u001b[0;34m]\u001b[0m\u001b[0;34m,\u001b[0m \u001b[0mmethod\u001b[0m\u001b[0;34m=\u001b[0m\u001b[0mmethod\u001b[0m\u001b[0;34m)\u001b[0m\u001b[0;34m\u001b[0m\u001b[0m\n",
      "\u001b[0;32mpandas/index.pyx\u001b[0m in \u001b[0;36mpandas.index.IndexEngine.get_loc (pandas/index.c:3824)\u001b[0;34m()\u001b[0m\n",
      "\u001b[0;32mpandas/index.pyx\u001b[0m in \u001b[0;36mpandas.index.IndexEngine.get_loc (pandas/index.c:3704)\u001b[0;34m()\u001b[0m\n",
      "\u001b[0;32mpandas/hashtable.pyx\u001b[0m in \u001b[0;36mpandas.hashtable.PyObjectHashTable.get_item (pandas/hashtable.c:12280)\u001b[0;34m()\u001b[0m\n",
      "\u001b[0;32mpandas/hashtable.pyx\u001b[0m in \u001b[0;36mpandas.hashtable.PyObjectHashTable.get_item (pandas/hashtable.c:12231)\u001b[0;34m()\u001b[0m\n",
      "\u001b[0;31mKeyError\u001b[0m: 'SRC'"
     ]
    }
   ],
   "source": [
    "shapefile_df_2009.head(5)"
   ]
  },
  {
   "cell_type": "code",
   "execution_count": 8,
   "metadata": {
    "collapsed": false
   },
   "outputs": [
    {
     "data": {
      "text/html": [
       "<div>\n",
       "<table border=\"1\" class=\"dataframe\">\n",
       "  <thead>\n",
       "    <tr style=\"text-align: right;\">\n",
       "      <th></th>\n",
       "      <th>FIRE_</th>\n",
       "      <th>FIRE_ID</th>\n",
       "      <th>LAT</th>\n",
       "      <th>LONG</th>\n",
       "      <th>TEMP</th>\n",
       "      <th>SPIX</th>\n",
       "      <th>TPIX</th>\n",
       "      <th>JDATE</th>\n",
       "      <th>GMC</th>\n",
       "      <th>FRP</th>\n",
       "      <th>CONFIDENCE</th>\n",
       "      <th>JULIAN</th>\n",
       "      <th>year</th>\n",
       "    </tr>\n",
       "  </thead>\n",
       "  <tbody>\n",
       "    <tr>\n",
       "      <th>count</th>\n",
       "      <td>85864.000000</td>\n",
       "      <td>85864.000000</td>\n",
       "      <td>85864.000000</td>\n",
       "      <td>85864.000000</td>\n",
       "      <td>85864.000000</td>\n",
       "      <td>85864.000000</td>\n",
       "      <td>85864.000000</td>\n",
       "      <td>85864.000000</td>\n",
       "      <td>85864.000000</td>\n",
       "      <td>85864.000000</td>\n",
       "      <td>85864.000000</td>\n",
       "      <td>85864.000000</td>\n",
       "      <td>85864</td>\n",
       "    </tr>\n",
       "    <tr>\n",
       "      <th>mean</th>\n",
       "      <td>42932.500000</td>\n",
       "      <td>2004812.229072</td>\n",
       "      <td>36.660762</td>\n",
       "      <td>-101.896841</td>\n",
       "      <td>327.612012</td>\n",
       "      <td>1.582568</td>\n",
       "      <td>1.202809</td>\n",
       "      <td>2008183.073209</td>\n",
       "      <td>1670.399108</td>\n",
       "      <td>71.056544</td>\n",
       "      <td>69.652707</td>\n",
       "      <td>183.073209</td>\n",
       "      <td>2008</td>\n",
       "    </tr>\n",
       "    <tr>\n",
       "      <th>std</th>\n",
       "      <td>24786.946094</td>\n",
       "      <td>1046558.256604</td>\n",
       "      <td>5.266189</td>\n",
       "      <td>15.345054</td>\n",
       "      <td>20.156341</td>\n",
       "      <td>0.798391</td>\n",
       "      <td>0.244211</td>\n",
       "      <td>82.796749</td>\n",
       "      <td>475.708328</td>\n",
       "      <td>143.417076</td>\n",
       "      <td>22.010853</td>\n",
       "      <td>82.796753</td>\n",
       "      <td>0</td>\n",
       "    </tr>\n",
       "    <tr>\n",
       "      <th>min</th>\n",
       "      <td>1.000000</td>\n",
       "      <td>111.000000</td>\n",
       "      <td>25.170000</td>\n",
       "      <td>-124.478000</td>\n",
       "      <td>305.000000</td>\n",
       "      <td>1.000000</td>\n",
       "      <td>1.000000</td>\n",
       "      <td>2008001.000000</td>\n",
       "      <td>219.000000</td>\n",
       "      <td>0.000000</td>\n",
       "      <td>0.000000</td>\n",
       "      <td>1.000000</td>\n",
       "      <td>2008</td>\n",
       "    </tr>\n",
       "    <tr>\n",
       "      <th>25%</th>\n",
       "      <td>21466.750000</td>\n",
       "      <td>1108861.750000</td>\n",
       "      <td>32.476750</td>\n",
       "      <td>-119.180000</td>\n",
       "      <td>314.700000</td>\n",
       "      <td>1.000000</td>\n",
       "      <td>1.000000</td>\n",
       "      <td>2008110.000000</td>\n",
       "      <td>1642.000000</td>\n",
       "      <td>18.200000</td>\n",
       "      <td>55.000000</td>\n",
       "      <td>110.000000</td>\n",
       "      <td>2008</td>\n",
       "    </tr>\n",
       "    <tr>\n",
       "      <th>50%</th>\n",
       "      <td>42932.500000</td>\n",
       "      <td>1842333.500000</td>\n",
       "      <td>36.249000</td>\n",
       "      <td>-98.063000</td>\n",
       "      <td>321.600000</td>\n",
       "      <td>1.200000</td>\n",
       "      <td>1.100000</td>\n",
       "      <td>2008185.000000</td>\n",
       "      <td>1843.000000</td>\n",
       "      <td>33.500000</td>\n",
       "      <td>72.000000</td>\n",
       "      <td>185.000000</td>\n",
       "      <td>2008</td>\n",
       "    </tr>\n",
       "    <tr>\n",
       "      <th>75%</th>\n",
       "      <td>64398.250000</td>\n",
       "      <td>2870766.250000</td>\n",
       "      <td>40.436000</td>\n",
       "      <td>-89.633750</td>\n",
       "      <td>333.400000</td>\n",
       "      <td>1.800000</td>\n",
       "      <td>1.300000</td>\n",
       "      <td>2008248.000000</td>\n",
       "      <td>1938.000000</td>\n",
       "      <td>70.000000</td>\n",
       "      <td>87.000000</td>\n",
       "      <td>248.000000</td>\n",
       "      <td>2008</td>\n",
       "    </tr>\n",
       "    <tr>\n",
       "      <th>max</th>\n",
       "      <td>85864.000000</td>\n",
       "      <td>4369809.000000</td>\n",
       "      <td>49.456000</td>\n",
       "      <td>-66.904000</td>\n",
       "      <td>503.600000</td>\n",
       "      <td>4.800000</td>\n",
       "      <td>2.000000</td>\n",
       "      <td>2008366.000000</td>\n",
       "      <td>2216.000000</td>\n",
       "      <td>6069.700000</td>\n",
       "      <td>100.000000</td>\n",
       "      <td>366.000000</td>\n",
       "      <td>2008</td>\n",
       "    </tr>\n",
       "  </tbody>\n",
       "</table>\n",
       "</div>"
      ],
      "text/plain": [
       "              FIRE_         FIRE_ID           LAT          LONG          TEMP  \\\n",
       "count  85864.000000    85864.000000  85864.000000  85864.000000  85864.000000   \n",
       "mean   42932.500000  2004812.229072     36.660762   -101.896841    327.612012   \n",
       "std    24786.946094  1046558.256604      5.266189     15.345054     20.156341   \n",
       "min        1.000000      111.000000     25.170000   -124.478000    305.000000   \n",
       "25%    21466.750000  1108861.750000     32.476750   -119.180000    314.700000   \n",
       "50%    42932.500000  1842333.500000     36.249000    -98.063000    321.600000   \n",
       "75%    64398.250000  2870766.250000     40.436000    -89.633750    333.400000   \n",
       "max    85864.000000  4369809.000000     49.456000    -66.904000    503.600000   \n",
       "\n",
       "               SPIX          TPIX           JDATE           GMC           FRP  \\\n",
       "count  85864.000000  85864.000000    85864.000000  85864.000000  85864.000000   \n",
       "mean       1.582568      1.202809  2008183.073209   1670.399108     71.056544   \n",
       "std        0.798391      0.244211       82.796749    475.708328    143.417076   \n",
       "min        1.000000      1.000000  2008001.000000    219.000000      0.000000   \n",
       "25%        1.000000      1.000000  2008110.000000   1642.000000     18.200000   \n",
       "50%        1.200000      1.100000  2008185.000000   1843.000000     33.500000   \n",
       "75%        1.800000      1.300000  2008248.000000   1938.000000     70.000000   \n",
       "max        4.800000      2.000000  2008366.000000   2216.000000   6069.700000   \n",
       "\n",
       "         CONFIDENCE        JULIAN   year  \n",
       "count  85864.000000  85864.000000  85864  \n",
       "mean      69.652707    183.073209   2008  \n",
       "std       22.010853     82.796753      0  \n",
       "min        0.000000      1.000000   2008  \n",
       "25%       55.000000    110.000000   2008  \n",
       "50%       72.000000    185.000000   2008  \n",
       "75%       87.000000    248.000000   2008  \n",
       "max      100.000000    366.000000   2008  "
      ]
     },
     "execution_count": 8,
     "metadata": {},
     "output_type": "execute_result"
    }
   ],
   "source": [
    "shapefile_df_2008.describe()"
   ]
  },
  {
   "cell_type": "code",
   "execution_count": 9,
   "metadata": {
    "collapsed": false
   },
   "outputs": [
    {
     "data": {
      "text/html": [
       "<div>\n",
       "<table border=\"1\" class=\"dataframe\">\n",
       "  <thead>\n",
       "    <tr style=\"text-align: right;\">\n",
       "      <th></th>\n",
       "      <th>FIRE_</th>\n",
       "      <th>FIRE_ID</th>\n",
       "      <th>JULIAN</th>\n",
       "      <th>GMT</th>\n",
       "      <th>TEMP</th>\n",
       "      <th>SPIX</th>\n",
       "      <th>TPIX</th>\n",
       "      <th>CONF</th>\n",
       "      <th>FRP</th>\n",
       "      <th>year</th>\n",
       "    </tr>\n",
       "  </thead>\n",
       "  <tbody>\n",
       "    <tr>\n",
       "      <th>count</th>\n",
       "      <td>171484.000000</td>\n",
       "      <td>171484.000000</td>\n",
       "      <td>171484.000000</td>\n",
       "      <td>171484.000000</td>\n",
       "      <td>171484.000000</td>\n",
       "      <td>171484.000000</td>\n",
       "      <td>171484.000000</td>\n",
       "      <td>171484.000000</td>\n",
       "      <td>171484.000000</td>\n",
       "      <td>171484</td>\n",
       "    </tr>\n",
       "    <tr>\n",
       "      <th>mean</th>\n",
       "      <td>85742.500000</td>\n",
       "      <td>328463.904580</td>\n",
       "      <td>157.346575</td>\n",
       "      <td>1715.958888</td>\n",
       "      <td>327.273831</td>\n",
       "      <td>1.589754</td>\n",
       "      <td>1.200212</td>\n",
       "      <td>68.954025</td>\n",
       "      <td>-3427.741610</td>\n",
       "      <td>2009</td>\n",
       "    </tr>\n",
       "    <tr>\n",
       "      <th>std</th>\n",
       "      <td>49503.311118</td>\n",
       "      <td>211571.785369</td>\n",
       "      <td>86.843825</td>\n",
       "      <td>397.490136</td>\n",
       "      <td>20.332660</td>\n",
       "      <td>0.800758</td>\n",
       "      <td>0.252013</td>\n",
       "      <td>21.204471</td>\n",
       "      <td>4796.152902</td>\n",
       "      <td>0</td>\n",
       "    </tr>\n",
       "    <tr>\n",
       "      <th>min</th>\n",
       "      <td>1.000000</td>\n",
       "      <td>44.000000</td>\n",
       "      <td>1.000000</td>\n",
       "      <td>209.000000</td>\n",
       "      <td>305.000000</td>\n",
       "      <td>1.000000</td>\n",
       "      <td>1.000000</td>\n",
       "      <td>0.000000</td>\n",
       "      <td>-9999.000000</td>\n",
       "      <td>2009</td>\n",
       "    </tr>\n",
       "    <tr>\n",
       "      <th>25%</th>\n",
       "      <td>42871.750000</td>\n",
       "      <td>113992.750000</td>\n",
       "      <td>87.000000</td>\n",
       "      <td>1655.000000</td>\n",
       "      <td>314.600000</td>\n",
       "      <td>1.100000</td>\n",
       "      <td>1.000000</td>\n",
       "      <td>55.000000</td>\n",
       "      <td>-9999.000000</td>\n",
       "      <td>2009</td>\n",
       "    </tr>\n",
       "    <tr>\n",
       "      <th>50%</th>\n",
       "      <td>85742.500000</td>\n",
       "      <td>329945.000000</td>\n",
       "      <td>142.000000</td>\n",
       "      <td>1837.000000</td>\n",
       "      <td>321.000000</td>\n",
       "      <td>1.300000</td>\n",
       "      <td>1.100000</td>\n",
       "      <td>71.000000</td>\n",
       "      <td>16.100000</td>\n",
       "      <td>2009</td>\n",
       "    </tr>\n",
       "    <tr>\n",
       "      <th>75%</th>\n",
       "      <td>128613.250000</td>\n",
       "      <td>508501.250000</td>\n",
       "      <td>233.000000</td>\n",
       "      <td>1928.000000</td>\n",
       "      <td>332.200000</td>\n",
       "      <td>1.700000</td>\n",
       "      <td>1.300000</td>\n",
       "      <td>85.000000</td>\n",
       "      <td>42.400000</td>\n",
       "      <td>2009</td>\n",
       "    </tr>\n",
       "    <tr>\n",
       "      <th>max</th>\n",
       "      <td>171484.000000</td>\n",
       "      <td>687137.000000</td>\n",
       "      <td>365.000000</td>\n",
       "      <td>2220.000000</td>\n",
       "      <td>504.100000</td>\n",
       "      <td>4.800000</td>\n",
       "      <td>2.000000</td>\n",
       "      <td>100.000000</td>\n",
       "      <td>7858.600000</td>\n",
       "      <td>2009</td>\n",
       "    </tr>\n",
       "  </tbody>\n",
       "</table>\n",
       "</div>"
      ],
      "text/plain": [
       "               FIRE_        FIRE_ID         JULIAN            GMT  \\\n",
       "count  171484.000000  171484.000000  171484.000000  171484.000000   \n",
       "mean    85742.500000  328463.904580     157.346575    1715.958888   \n",
       "std     49503.311118  211571.785369      86.843825     397.490136   \n",
       "min         1.000000      44.000000       1.000000     209.000000   \n",
       "25%     42871.750000  113992.750000      87.000000    1655.000000   \n",
       "50%     85742.500000  329945.000000     142.000000    1837.000000   \n",
       "75%    128613.250000  508501.250000     233.000000    1928.000000   \n",
       "max    171484.000000  687137.000000     365.000000    2220.000000   \n",
       "\n",
       "                TEMP           SPIX           TPIX           CONF  \\\n",
       "count  171484.000000  171484.000000  171484.000000  171484.000000   \n",
       "mean      327.273831       1.589754       1.200212      68.954025   \n",
       "std        20.332660       0.800758       0.252013      21.204471   \n",
       "min       305.000000       1.000000       1.000000       0.000000   \n",
       "25%       314.600000       1.100000       1.000000      55.000000   \n",
       "50%       321.000000       1.300000       1.100000      71.000000   \n",
       "75%       332.200000       1.700000       1.300000      85.000000   \n",
       "max       504.100000       4.800000       2.000000     100.000000   \n",
       "\n",
       "                 FRP    year  \n",
       "count  171484.000000  171484  \n",
       "mean    -3427.741610    2009  \n",
       "std      4796.152902       0  \n",
       "min     -9999.000000    2009  \n",
       "25%     -9999.000000    2009  \n",
       "50%        16.100000    2009  \n",
       "75%        42.400000    2009  \n",
       "max      7858.600000    2009  "
      ]
     },
     "execution_count": 9,
     "metadata": {},
     "output_type": "execute_result"
    }
   ],
   "source": [
    "shapefile_df_2009.describe()"
   ]
  },
  {
   "cell_type": "markdown",
   "metadata": {},
   "source": [
    "The distribution of T21 looks to match up almost exactly to TEMP, so I am going to use that for the TEMP variable \n",
    "prior to 2009. The 2008 SATELLITE variable corresponds to to the SAT_SRC in 2009+, and the SRC variable in 2009+ \n",
    "appears for now to be useless (it doesn't exist prior to 2008). The JDATE prior to 2008 needs to be parsed - it holds the year plus the part that I want. The FRP looks odd in 2009 - the mean is negative, which is most likely due to the \n",
    "many negative values (-9999). I need to look into that. "
   ]
  },
  {
   "cell_type": "code",
   "execution_count": 20,
   "metadata": {
    "collapsed": false
   },
   "outputs": [
    {
     "data": {
      "text/plain": [
       "Index([u'AREA', u'PERIMETER', u'FIRE_', u'FIRE_ID', u'LAT', u'LONG', u'DATE',\n",
       "       u'JULIAN', u'GMT', u'TEMP', u'SPIX', u'TPIX', u'SAT_SRC', u'CONF',\n",
       "       u'FRP', u'year'],\n",
       "      dtype='object')"
      ]
     },
     "execution_count": 20,
     "metadata": {},
     "output_type": "execute_result"
    }
   ],
   "source": [
    "mask = shapefile_df_2009.eval('FRP == -9999')\n",
    "# np.unique(shapefile_df_2009[mask]['SRC'])\n",
    "shapefile_df_2009.columns"
   ]
  },
  {
   "cell_type": "markdown",
   "metadata": {},
   "source": [
    "Per the above, all of the -9999 values for FRP are coming from rows where the source is gsfc, or the NASA-Goddard Space Flight Center MODIS Rapid Response System. Let's see if this is true in other years. "
   ]
  },
  {
   "cell_type": "code",
   "execution_count": null,
   "metadata": {
    "collapsed": false
   },
   "outputs": [],
   "source": [
    "for year in xrange(2009, 2016): \n",
    "    mask = eval(\"shapefile_df_\" + str(year) + \".eval('FRP == -9999')\")\n",
    "    print np.unique(eval(\"shapefile_df_\" + str(year) + \"[mask]['SRC']\"))"
   ]
  },
  {
   "cell_type": "code",
   "execution_count": null,
   "metadata": {
    "collapsed": false
   },
   "outputs": [],
   "source": [
    "# Let's see if there just aren't any -9999 values in 2011+ (as the above seems to indicate). \n",
    "shapefile_df_2015['FRP'].describe()"
   ]
  },
  {
   "cell_type": "code",
   "execution_count": null,
   "metadata": {
    "collapsed": false
   },
   "outputs": [],
   "source": [
    "# Is the GSFC SRC not present in 2011+?\n",
    "np.unique(shapefile_df_2015['SRC'])\n",
    "\n",
    "# It's present in all years... I'll have to look into raw satellite data to figure out what's going on with \n",
    "# those -9999 values. "
   ]
  },
  {
   "cell_type": "code",
   "execution_count": null,
   "metadata": {
    "collapsed": false
   },
   "outputs": [],
   "source": [
    "# Are there other characteristics of those obs. that will distinguish them? Maybe time, location, something?\n",
    "mask = shapefile_df_2009['FRP'] == -9999\n",
    "shapefile_df_2009[mask].describe()"
   ]
  },
  {
   "cell_type": "code",
   "execution_count": null,
   "metadata": {
    "collapsed": false
   },
   "outputs": [],
   "source": [
    "shapefile_df_2009[~mask].describe()"
   ]
  },
  {
   "cell_type": "code",
   "execution_count": null,
   "metadata": {
    "collapsed": false
   },
   "outputs": [],
   "source": [
    "mask_opposite = 1 - mask\n",
    "mask_opposite"
   ]
  },
  {
   "cell_type": "code",
   "execution_count": null,
   "metadata": {
    "collapsed": false
   },
   "outputs": [],
   "source": [
    "type(shapefile_df_2009['JULIAN'][0])"
   ]
  },
  {
   "cell_type": "code",
   "execution_count": null,
   "metadata": {
    "collapsed": true
   },
   "outputs": [],
   "source": []
  }
 ],
 "metadata": {
  "kernelspec": {
   "display_name": "Python 2",
   "language": "python",
   "name": "python2"
  },
  "language_info": {
   "codemirror_mode": {
    "name": "ipython",
    "version": 2
   },
   "file_extension": ".py",
   "mimetype": "text/x-python",
   "name": "python",
   "nbconvert_exporter": "python",
   "pygments_lexer": "ipython2",
   "version": "2.7.10"
  }
 },
 "nbformat": 4,
 "nbformat_minor": 0
}
