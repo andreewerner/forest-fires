{
 "cells": [
  {
   "cell_type": "markdown",
   "metadata": {},
   "source": [
    "It turns out that in some of the perimeter boundary file for fires, there are duplicate entries if I group by fire name and date. I need to figure out what is going with those - if I merge on the detected fires to the perimeter boundary files by date and gemoetry, some detected fires end up merging to two different boundaries, which creates what appear to be duplicate entries. Before dropping what appear to be duplicate perimeter boundaries for the same fire, I need to figure out why there are two different rows in the data for these fires. Is it because two different sources reported the same fire boundary, or what?"
   ]
  },
  {
   "cell_type": "code",
   "execution_count": 42,
   "metadata": {
    "collapsed": true
   },
   "outputs": [],
   "source": [
    "import psycopg2\n",
    "import numpy as np"
   ]
  },
  {
   "cell_type": "code",
   "execution_count": 43,
   "metadata": {
    "collapsed": false
   },
   "outputs": [],
   "source": [
    "conn = psycopg2.connect(dbname='forest_fires')\n",
    "c = conn.cursor()"
   ]
  },
  {
   "cell_type": "code",
   "execution_count": 44,
   "metadata": {
    "collapsed": false
   },
   "outputs": [
    {
     "data": {
      "text/plain": [
       "[(16L, 'Douglas Complex', datetime.date(2013, 8, 4)),\n",
       " (16L, 'Douglas Complex', datetime.date(2013, 8, 13)),\n",
       " (16L, 'Douglas Complex', datetime.date(2013, 8, 5)),\n",
       " (15L, 'Douglas Complex', datetime.date(2013, 8, 2)),\n",
       " (12L, 'Douglas Complex', datetime.date(2013, 8, 9)),\n",
       " (12L, 'Douglas Complex', datetime.date(2013, 8, 11)),\n",
       " (11L, 'Douglas Complex', datetime.date(2013, 7, 30)),\n",
       " (10L, 'Whiskey Complex', datetime.date(2013, 8, 7)),\n",
       " (10L, 'Government Flats Complex', datetime.date(2013, 8, 19)),\n",
       " (10L, 'Corral Complex', datetime.date(2013, 8, 12)),\n",
       " (9L, 'West Fork Complex', datetime.date(2013, 7, 7)),\n",
       " (9L, 'Douglas Complex', datetime.date(2013, 8, 19)),\n",
       " (9L, 'Big Windy Complex', datetime.date(2013, 8, 3)),\n",
       " (9L, 'Douglas Complex', datetime.date(2013, 8, 18)),\n",
       " (9L, 'Government Flats Complex', datetime.date(2013, 8, 21)),\n",
       " (9L, 'Douglas Complex', datetime.date(2013, 7, 31)),\n",
       " (9L, 'Big Windy Complex', datetime.date(2013, 8, 5)),\n",
       " (8L, 'Corral Complex', datetime.date(2013, 8, 15)),\n",
       " (8L, 'Government Flats Complex', datetime.date(2013, 8, 23)),\n",
       " (8L, 'Druid Complex', datetime.date(2013, 8, 30))]"
      ]
     },
     "execution_count": 44,
     "metadata": {},
     "output_type": "execute_result"
    }
   ],
   "source": [
    "# Grab the fire names for 2013 that have the highest number of obs per fire_name and date.\n",
    "c.execute('''SELECT COUNT(fire_name) as total, fire_name, date_\n",
    "            FROM daily_fire_shapefiles_2013 \n",
    "            GROUP BY fire_name, date_\n",
    "            ORDER BY total DESC\n",
    "            LIMIT 20; ''')\n",
    "c.fetchall()"
   ]
  },
  {
   "cell_type": "code",
   "execution_count": 45,
   "metadata": {
    "collapsed": false
   },
   "outputs": [
    {
     "name": "stdout",
     "output_type": "stream",
     "text": [
      "acres: [Decimal('5.19000000') Decimal('7.82000000') Decimal('9.36000000')\n",
      " Decimal('14.43000000') Decimal('244.75000000') Decimal('2200.27000000')\n",
      " Decimal('15768.88000000') Decimal('16356.72000000')\n",
      " Decimal('19608.00000000') Decimal('20059.75000000')]\n",
      "agency: ['State Agency']\n",
      "time_: ['0040' '1130' '1330']\n",
      "comments: [None]\n",
      "year_: ['2013']\n",
      "active: ['N']\n",
      "unit_id: ['OR-73S']\n",
      "fire_num: ['HSG9']\n",
      "fire: ['Brimstone' 'Dads Creek' 'Farmers' 'Malone' 'Malone Creek' 'McNab' 'Milo'\n",
      " 'Rabbit Mountain' 'Tom East']\n",
      "load_date: [datetime.date(2013, 8, 5) datetime.date(2013, 8, 21)]\n",
      "inciweb_id: ['3559']\n",
      "st_area_sh: [Decimal('0.00000231') Decimal('0.00000347') Decimal('0.00000416')\n",
      " Decimal('0.00000644') Decimal('0.00010880') Decimal('0.00097647')\n",
      " Decimal('0.00702357') Decimal('0.00728532') Decimal('0.00871746')\n",
      " Decimal('0.00891827')]\n",
      "st_length_: [Decimal('0.00673966') Decimal('0.00725281') Decimal('0.00790847')\n",
      " Decimal('0.01173040') Decimal('0.04025363') Decimal('0.18993042')\n",
      " Decimal('0.77855830') Decimal('0.78459987') Decimal('0.79951530')\n",
      " Decimal('0.85149941')]\n",
      "st_area__1: [Decimal('0.00000231') Decimal('0.00000347') Decimal('0.00000416')\n",
      " Decimal('0.00000644') Decimal('0.00010880') Decimal('0.00097647')\n",
      " Decimal('0.00702357') Decimal('0.00728532') Decimal('0.00871746')\n",
      " Decimal('0.00891827')]\n",
      "st_length1: [Decimal('0.00673966') Decimal('0.00725281') Decimal('0.00790847')\n",
      " Decimal('0.01173040') Decimal('0.04025363') Decimal('0.18993042')\n",
      " Decimal('0.77855830') Decimal('0.78459988') Decimal('0.79951529')\n",
      " Decimal('0.85149940')]\n",
      "st_area__2: [Decimal('0.00000230593') Decimal('0.00000347424') Decimal('0.00000415763')\n",
      " Decimal('0.00000643675') Decimal('0.00010879588') Decimal('0.00097647085')\n",
      " Decimal('0.00702357330') Decimal('0.00728532483') Decimal('0.00871745927')\n",
      " Decimal('0.00891827136')]\n",
      "st_lengt_1: [Decimal('0.00673966295') Decimal('0.00725281262') Decimal('0.00790846645')\n",
      " Decimal('0.01173040420') Decimal('0.04025363499') Decimal('0.18993042281')\n",
      " Decimal('0.77855829562') Decimal('0.78459987626') Decimal('0.79951529190')\n",
      " Decimal('0.85149939574')]\n"
     ]
    }
   ],
   "source": [
    "# Now let's look at a a couple of these and see whats different. SELECT * \n",
    "# won't work below because there is a field that returns all blanks and \n",
    "# causes an error. \n",
    "columns = ['acres', 'agency', 'time_', 'comments', 'year_', 'active', \n",
    "          'unit_id', 'fire_num', 'fire', 'load_date', 'inciweb_id', \n",
    "          'st_area_sh', 'st_length_', 'st_area__1', 'st_length1', \n",
    "          'st_area__2', 'st_lengt_1']\n",
    "for column in columns: \n",
    "    c.execute('''SELECT ''' + column + '''\n",
    "                FROM daily_fire_shapefiles_2013 \n",
    "                WHERE fire_name = 'Douglas Complex' and date_ = '2013-8-4'; ''')\n",
    "    print column + ':', np.unique(c.fetchall())"
   ]
  },
  {
   "cell_type": "markdown",
   "metadata": {},
   "source": [
    "Upon first glance what it looks like is that there are multiple entries per fire name because there are different parts of the fire. If we look at 'fire' variable above we see a number of different names - ['Brimstone' 'Dads Creek' 'Farmers' 'Malone' 'Malone Creek' 'McNab' 'Milo'\n",
    " 'Rabbit Mountain' 'Tom East']. With some googling we can tell that these are different parts/areas of the same fire. Let's look at 2014 and check one ob. there to (a). Just check it out, and (b.) Kind of confirm that what I think is true is true in another year. "
   ]
  },
  {
   "cell_type": "code",
   "execution_count": null,
   "metadata": {
    "collapsed": true
   },
   "outputs": [],
   "source": []
  }
 ],
 "metadata": {
  "kernelspec": {
   "display_name": "Python 2",
   "language": "python",
   "name": "python2"
  },
  "language_info": {
   "codemirror_mode": {
    "name": "ipython",
    "version": 2
   },
   "file_extension": ".py",
   "mimetype": "text/x-python",
   "name": "python",
   "nbconvert_exporter": "python",
   "pygments_lexer": "ipython2",
   "version": "2.7.10"
  }
 },
 "nbformat": 4,
 "nbformat_minor": 0
}
