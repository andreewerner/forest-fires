{
 "cells": [
  {
   "cell_type": "markdown",
   "metadata": {},
   "source": [
    "This notebook will be aimed at exploring the distribution of fires/non-fires geographically. After building out some plotting functionality in another repository ([dsfuncs](https://github.com/sallamander/dsfuncs)), I'll be using it to plot fires. I'll start off by focusing on counties that have had a good number of fires in 2015, and look at the distribution of fires/non-fires in those counties in 2015 (and probably in a one month span). After that, I'll move to looking at the distribution of fires/non-fires in those same counties, but in earlier years. I'm aiming to explore the data to identify patterns that I might use in modeling, and specifically looking to see if: \n",
    "\n",
    "1. Fires clump together, as we might expect. Since the \"detected fires\" are just centroids detected at one point in the day, it seems reasonable to expect that multiple centroids that are truly fires would be detected close to each other in time and space. \n",
    "2. Fires are not present in the same locations from year to year. Forest-fires are often described as cyclical in nature, at least when we look at the same location across time. I'll be looking to try to confirm this (or support this) with this exploration here. \n",
    "\n",
    "The first thing I'll need to do is read in the data and figure out how to parse it to a given state and/or county. I'm going to intially focus on forest-fires in Washington, California, Colorado, Montana, and Texas. I think this will give me a reasonable mix of places that have enough potential fires to look at, while still being somewhat geographically diverse (unfortunately nothing in the east will really have enough). "
   ]
  },
  {
   "cell_type": "code",
   "execution_count": 1,
   "metadata": {
    "collapsed": false
   },
   "outputs": [],
   "source": [
    "import pandas as pd\n",
    "from dsfuncs.geo_plotting import CountyMap\n",
    "%matplotlib inline"
   ]
  },
  {
   "cell_type": "markdown",
   "metadata": {},
   "source": [
    "The first step will be to create functions to read in the data, and then only grab those rows of the data set that correspond to a given location (state & county) as well as a given month (or months). "
   ]
  },
  {
   "cell_type": "code",
   "execution_count": 11,
   "metadata": {
    "collapsed": false
   },
   "outputs": [],
   "source": [
    "def read_df(year, modis=True): \n",
    "    \"\"\"This function will read in a year of data, and add a month column. \n",
    "    \n",
    "    Args: \n",
    "        year: str\n",
    "        \n",
    "    Return:\n",
    "        Pandas DataFrame\n",
    "    \"\"\"\n",
    "    if modis: \n",
    "        output_df = pd.read_csv('../../../data/csvs/detected_fires_MODIS_' + str(year) + '.csv', \n",
    "                                parse_dates=['date'], true_values=['t'], false_values=['f'])\n",
    "    else: \n",
    "         output_df = pd.read_csv('../../../data/csvs/detected_fires_VIIRS_' + str(year) + '.csv', \n",
    "                                parse_dates=['date'], true_values=['t'], false_values=['f'])\n",
    "    output_df['month'] = output_df.date.apply(lambda dt: dt.strftime('%B'))\n",
    "    return output_df\n",
    "    \n",
    "def grab_by_location(df, state_names, county_names=None): \n",
    "    \"\"\"Grab the data for a specified inputted state and county. \n",
    "    \n",
    "    Args: \n",
    "        df: Pandas DataFrame\n",
    "        state: set (or iterable of strings)\n",
    "        county: set (or iterable of strings)\n",
    "    \n",
    "    Return: \n",
    "        Pandas DataFrame\n",
    "    \"\"\"\n",
    "    if county_names: \n",
    "        output_df = df.query('state_name in @state_names and county_name in @county_names')\n",
    "    else: \n",
    "        output_df = df.query('state_name in @state_names')\n",
    "    return output_df\n",
    "\n",
    "def grab_by_date(df, months): \n",
    "    \"\"\"Grab the data for a set of specified months.\n",
    "    \n",
    "    Args: \n",
    "        df: Pandas DataFrame\n",
    "        months: set (or iterable of strings)\n",
    "    \n",
    "    Return: \n",
    "        Pandas DataFrame\n",
    "    \"\"\"\n",
    "    \n",
    "    output_df = df.query(\"month in @months\")\n",
    "    return output_df"
   ]
  },
  {
   "cell_type": "markdown",
   "metadata": {},
   "source": [
    "The next step is to just parse the data to get it into a format to plot. The format that the `CountyMap` class will expect the data to be in is an iterable of three items: \n",
    "\n",
    "1. Longitude of the point. \n",
    "2. Latitude of the point. \n",
    "3. Color to plot the point in. \n",
    "\n",
    "I'll create a function that will take in the previously parsed location/date DataFrame and get the data set up to be in that format. "
   ]
  },
  {
   "cell_type": "code",
   "execution_count": 15,
   "metadata": {
    "collapsed": true
   },
   "outputs": [],
   "source": [
    "def format_df(df): \n",
    "    \"\"\"Format the data to plot it on maps. \n",
    "    \n",
    "    This function will grab the latitude and longitude \n",
    "    columns of the DataFrame, and return those, along \n",
    "    with a third column that will be newly generated. This \n",
    "    new column will hold what color we want to use to plot \n",
    "    the lat/long coordinate - I'll use red for fire and \n",
    "    green for non-fire. \n",
    "    \n",
    "    Args: \n",
    "        df: Pandas DataFrame\n",
    "    \n",
    "    Return: \n",
    "        numpy.ndarray\n",
    "    \"\"\"\n",
    "    \n",
    "    keep_cols = ['long', 'lat', 'fire_bool']\n",
    "    intermediate_df = df[keep_cols]\n",
    "    output_df = parse_fire_bool(intermediate_df)\n",
    "    output_array = output_df.values\n",
    "    return output_array\n",
    "\n",
    "def parse_fire_bool(df): \n",
    "    \"\"\"Parse the fire boolean to a color for plotting. \n",
    "    \n",
    "    Args: \n",
    "        df: Pandas DataFrame\n",
    "        \n",
    "    Return: \n",
    "        Pandas DataFrame\n",
    "    \"\"\"\n",
    "    \n",
    "    # Plot actual fires red and non-fires green. \n",
    "    output_df = df.drop('fire_bool', axis=1)\n",
    "    output_df['plotting_mark'] = df['fire_bool'].apply(lambda f_bool: 'ro' if f_bool == True else 'go')\n",
    "    return output_df"
   ]
  },
  {
   "cell_type": "markdown",
   "metadata": {},
   "source": [
    "Now let's put all of this into a master function. "
   ]
  },
  {
   "cell_type": "code",
   "execution_count": 20,
   "metadata": {
    "collapsed": false
   },
   "outputs": [],
   "source": [
    "def read_n_parse(year, state_names, county_names=None, months=None, plotting=False): \n",
    "    \"\"\"Read and parse the data for plotting.\n",
    "    \n",
    "    Args: \n",
    "        year: str\n",
    "    Return: \n",
    "        Pandas DataFrame\n",
    "    \"\"\"\n",
    "    \n",
    "    fires_df = read_df(year)\n",
    "    if state_names: \n",
    "        fires_df = grab_by_location(fires_df, state_names, county_names)\n",
    "    \n",
    "    if months: \n",
    "        fires_df = grab_by_date(fires_df, months)\n",
    "    \n",
    "    if plotting: \n",
    "        fires_df = format_df(fires_df)\n",
    "    return fires_df"
   ]
  }
 ],
 "metadata": {
  "kernelspec": {
   "display_name": "Python 2",
   "language": "python",
   "name": "python2"
  },
  "language_info": {
   "codemirror_mode": {
    "name": "ipython",
    "version": 2
   },
   "file_extension": ".py",
   "mimetype": "text/x-python",
   "name": "python",
   "nbconvert_exporter": "python",
   "pygments_lexer": "ipython2",
   "version": "2.7.11"
  }
 },
 "nbformat": 4,
 "nbformat_minor": 0
}
