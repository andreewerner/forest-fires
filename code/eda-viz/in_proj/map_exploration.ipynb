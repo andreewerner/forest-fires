{
 "cells": [
  {
   "cell_type": "markdown",
   "metadata": {},
   "source": [
    "This notebook will be aimed at exploring the distribution of fires/non-fires geographically. After building out some plotting functionality in another repository ([dsfuncs](https://github.com/sallamander/dsfuncs)), I'll be using it to plot fires. I'll start off by focusing on counties that have had a good number of fires in 2015, and look at the distribution of fires/non-fires in those counties in 2015 (and probably in a one month span). After that, I'll move to looking at the distribution of fires/non-fires in those same counties, but in earlier years. I'm aiming to explore the data to identify patterns that I might use in modeling, and specifically looking to see if: \n",
    "\n",
    "1. Fires clump together, as we might expect. Since the \"detected fires\" are just centroids detected at one point in the day, it seems reasonable to expect that multiple centroids that are truly fires would be detected close to each other in time and space. \n",
    "2. Fires are not present in the same locations from year to year. Forest-fires are often described as cyclical in nature, at least when we look at the same location across time. I'll be looking to try to confirm this (or support this) with this exploration here. \n",
    "\n",
    "The first thing I'll need to do is read in the data and figure out how to parse it to a given state and county. I'm going to intially focus on forest-fires in Washington, California, Colorado, Montana, and Texas. I think this will give me a reasonable mix of places that have enough potential fires to look at, while still being somewhat geographically diverse (unfortunately nothing in the east will really have enough). In Washington, I'll focus on the [Sleepy Hollow Fire](https://en.wikipedia.org/wiki/2015_Washington_wildfires#Sleepy_Hollow_fire) in Chelan County (June/July); in California, the [Round Fire](https://en.wikipedia.org/wiki/2015_California_wildfires#Fires) in Inyo county (January/February); in Colorado, the [Weld County Fire](http://www.greeleytribune.com/news/18244870-113/update-highway-34-fire-grows-to-12000-acres) in Weld County (February/March); in Montana, the [Bear Creek Complex](http://mtpr.org/post/montana-wildfire-roundup-august-17-2015#stream/0) in Carbon County (September/October); and in Texas, the [Hidden Pines Fire](http://www.statesman.com/news/news/local/hidden-pines-status-unchanged-but-dry-air-winds-su/nn4T9/) in Bastrop County (October). "
   ]
  },
  {
   "cell_type": "code",
   "execution_count": null,
   "metadata": {
    "collapsed": true
   },
   "outputs": [],
   "source": []
  }
 ],
 "metadata": {
  "kernelspec": {
   "display_name": "Python 2",
   "language": "python",
   "name": "python2"
  },
  "language_info": {
   "codemirror_mode": {
    "name": "ipython",
    "version": 2
   },
   "file_extension": ".py",
   "mimetype": "text/x-python",
   "name": "python",
   "nbconvert_exporter": "python",
   "pygments_lexer": "ipython2",
   "version": "2.7.11"
  }
 },
 "nbformat": 4,
 "nbformat_minor": 0
}
