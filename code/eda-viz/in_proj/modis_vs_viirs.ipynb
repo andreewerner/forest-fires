{
 "cells": [
  {
   "cell_type": "markdown",
   "metadata": {},
   "source": [
    "This notebook here will be to try to get a good idea of whether I should use the MODIS or VIIRS data. I originally started out with a download of the [MODIS data](http://firemapper.sc.egov.usda.gov/gisdata.php) because it offered more data (it goes back to 2001, where VIIRS goes back to 2012). However, the VIIRS data is at a higher resolution, and in that sense it's at least worth taking a look at. \n",
    "\n",
    "I'm going to start off by looking at some basic statistics from each of the data sets for a given year - # of obs., # of fires, variable distribution. Then, I'll do some geographical plotting to compare how the distribution of fire/non-fire observations differs across the two data sets. A number of these functions are pulled from the `map_exploration.ipynb` notebook also stored in this folder. Normally, I would throw these into a folder in the name of DRY, but right now I'm doing EDA and I'm not too worried about it. "
   ]
  },
  {
   "cell_type": "code",
   "execution_count": 4,
   "metadata": {
    "collapsed": true
   },
   "outputs": [],
   "source": [
    "import pandas as pd"
   ]
  },
  {
   "cell_type": "code",
   "execution_count": 7,
   "metadata": {
    "collapsed": true
   },
   "outputs": [],
   "source": [
    "def read_df(year, modis=True): \n",
    "    \"\"\"This function will read in a year of data, and add a month column. \n",
    "    \n",
    "    Args: \n",
    "        year: str\n",
    "        modis: bool\n",
    "            Whether to use the modis or viirs data for plotting. \n",
    "        \n",
    "    Return:\n",
    "        Pandas DataFrame\n",
    "    \"\"\"\n",
    "    if modis: \n",
    "        output_df = pd.read_csv('../../../data/csvs/detected_fires_MODIS_' + str(year) + '.csv', \n",
    "                                parse_dates=['date'], true_values=['t'], false_values=['f'])\n",
    "    else: \n",
    "         output_df = pd.read_csv('../../../data/csvs/detected_fires_VIIRS_' + str(year) + '.csv', \n",
    "                                parse_dates=['date'], true_values=['t'], false_values=['f'])\n",
    "    output_df['month'] = output_df.date.apply(lambda dt: dt.strftime('%B'))\n",
    "    output_df.dropna(subset=['region_name'], inplace=True) # These will be obs. in Canada. \n",
    "    return output_df\n",
    "\n",
    "def calc_minor_stats(df): \n",
    "    \"\"\"Calculate some minor, fixed stats for the inputted DataFrame. \n",
    "    \n",
    "    Return the number of observations, the number of fires, and the \n",
    "    percentage of obs. that are a fire from the inputted DataFrame. \n",
    "    \n",
    "    Args: \n",
    "        df: Pandas DataFrame\n",
    "            Inputted DataFrame to grab some minor stats from. \n",
    "    \n",
    "    Return: int (n_obs), int(n_fires), float (pct_fires)\n",
    "    \"\"\"\n",
    "    \n",
    "    n_obs = df.shape[0]\n",
    "    n_fires = df.query('fire_bool == True').shape[0]\n",
    "    pct_fires = float(n_fires) / n_obs\n",
    "    \n",
    "    return n_obs, n_fires, pct_fires"
   ]
  },
  {
   "cell_type": "code",
   "execution_count": 8,
   "metadata": {
    "collapsed": false
   },
   "outputs": [
    {
     "name": "stdout",
     "output_type": "stream",
     "text": [
      "Year: 2012\n",
      "--------------------------------------------------\n",
      "Modis - Num. obs: 247286, Num. fires: 59731, Pct. fires: 0.241546225828\n",
      "Year: 2013\n",
      "--------------------------------------------------\n",
      "Modis - Num. obs: 179295, Num. fires: 26997, Pct. fires: 0.150573077888\n",
      "Year: 2014\n",
      "--------------------------------------------------\n",
      "Modis - Num. obs: 224904, Num. fires: 23932, Pct. fires: 0.106409845979\n",
      "Year: 2015\n",
      "--------------------------------------------------\n",
      "Modis - Num. obs: 145010, Num. fires: 32873, Pct. fires: 0.22669471071\n"
     ]
    }
   ],
   "source": []
  },
  {
   "cell_type": "code",
   "execution_count": null,
   "metadata": {
    "collapsed": true
   },
   "outputs": [],
   "source": []
  }
 ],
 "metadata": {
  "kernelspec": {
   "display_name": "Python 2",
   "language": "python",
   "name": "python2"
  },
  "language_info": {
   "codemirror_mode": {
    "name": "ipython",
    "version": 2
   },
   "file_extension": ".py",
   "mimetype": "text/x-python",
   "name": "python",
   "nbconvert_exporter": "python",
   "pygments_lexer": "ipython2",
   "version": "2.7.11"
  }
 },
 "nbformat": 4,
 "nbformat_minor": 0
}
