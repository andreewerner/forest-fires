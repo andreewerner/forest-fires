{
 "cells": [
  {
   "cell_type": "markdown",
   "metadata": {},
   "source": [
    "This notebook is aimed at looking at some of the features that were engineered to run through the model, namely the columns containin the number of nearby observations and fires across time and space. Specifically, columns were created that hold the counts of observations and fires (denoted by the column `fire_bool == True`) that are within 0.1 km of a given observation, and within 1-7 days, as well as within 365, 730, 1095 days. These columns all have the base name `all_nearby_count` and `all_nearby_fires`, and then add on the number of days back in time that were used to look for nearby observations. For example, `all_nearby_count1` holds the number of observations that were within 0.1 km of a given observation, up to 1 day prior, whereas `all_nearby_fires2` holds the number of positively labeled observations (e.g. `fire_bool == True`) that were within 0.1 im of a given observation, up to 2 days prior. \n",
    "\n",
    "This notebook will be used to examine the distributions of these engineered columns. "
   ]
  },
  {
   "cell_type": "code",
   "execution_count": null,
   "metadata": {
    "collapsed": true
   },
   "outputs": [],
   "source": []
  }
 ],
 "metadata": {
  "kernelspec": {
   "display_name": "Python 2",
   "language": "python",
   "name": "python2"
  },
  "language_info": {
   "codemirror_mode": {
    "name": "ipython",
    "version": 2
   },
   "file_extension": ".py",
   "mimetype": "text/x-python",
   "name": "python",
   "nbconvert_exporter": "python",
   "pygments_lexer": "ipython2",
   "version": "2.7.11"
  }
 },
 "nbformat": 4,
 "nbformat_minor": 0
}
