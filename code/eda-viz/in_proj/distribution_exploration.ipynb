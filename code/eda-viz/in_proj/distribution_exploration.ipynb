{
 "cells": [
  {
   "cell_type": "markdown",
   "metadata": {
    "collapsed": true
   },
   "source": [
    "The plan with this notebook is to explore and take a look at the distributions of the original variables that I'll be working with in this project. I'll plan on looking at the majority of the variables both with and without outliers."
   ]
  },
  {
   "cell_type": "code",
   "execution_count": 31,
   "metadata": {
    "collapsed": false
   },
   "outputs": [],
   "source": [
    "from dsfuncs.processing import remove_outliers\n",
    "from dsfuncs.plotting import plot_var_dist\n",
    "import pandas as pd\n",
    "import numpy as np\n",
    "%matplotlib inline"
   ]
  },
  {
   "cell_type": "code",
   "execution_count": 2,
   "metadata": {
    "collapsed": true
   },
   "outputs": [],
   "source": [
    "def read_df(year): \n",
    "    \"\"\"Read in a year's worth of data. \n",
    "    \n",
    "    Args: \n",
    "        year: int\n",
    "    \"\"\"\n",
    "    \n",
    "    df = pd.read_csv('../../../data/csvs/detected_fires_' + str(year) + '.csv', true_values =['t', 'True'], false_values=['f', 'False'])\n",
    "    return df"
   ]
  },
  {
   "cell_type": "code",
   "execution_count": 3,
   "metadata": {
    "collapsed": false
   },
   "outputs": [
    {
     "data": {
      "text/plain": [
       "Index([u'ogc_fid', u'wkb_geometry', u'area', u'perimeter', u'fire_',\n",
       "       u'fire_id', u'lat', u'long', u'date', u'julian', u'gmt', u'temp',\n",
       "       u'spix', u'tpix', u'src', u'sat_src', u'conf', u'frp', u'fire_bool',\n",
       "       u'urban_areas_bool', u'region_aland', u'region_awater', u'region_name',\n",
       "       u'region_lsad', u'region_code', u'county_aland', u'county_awater',\n",
       "       u'county_name', u'county_lsad', u'county_fips', u'state_aland',\n",
       "       u'state_awater', u'state_name', u'state_lsad', u'state_fips'],\n",
       "      dtype='object')"
      ]
     },
     "execution_count": 3,
     "metadata": {},
     "output_type": "execute_result"
    }
   ],
   "source": [
    "# Test out my function and see what columns I actually want to look at the distributions of. \n",
    "fires_df_2012 = read_df(2012)\n",
    "fires_df_2012.columns"
   ]
  },
  {
   "cell_type": "code",
   "execution_count": 4,
   "metadata": {
    "collapsed": false,
    "scrolled": true
   },
   "outputs": [
    {
     "name": "stdout",
     "output_type": "stream",
     "text": [
      "<class 'pandas.core.frame.DataFrame'>\n",
      "Int64Index: 252439 entries, 0 to 252438\n",
      "Data columns (total 35 columns):\n",
      "ogc_fid             252439 non-null int64\n",
      "wkb_geometry        252439 non-null object\n",
      "area                252439 non-null float64\n",
      "perimeter           252439 non-null float64\n",
      "fire_               252439 non-null int64\n",
      "fire_id             252439 non-null int64\n",
      "lat                 252439 non-null float64\n",
      "long                252439 non-null float64\n",
      "date                252439 non-null object\n",
      "julian              252439 non-null int64\n",
      "gmt                 252439 non-null int64\n",
      "temp                252439 non-null float64\n",
      "spix                252439 non-null float64\n",
      "tpix                252439 non-null float64\n",
      "src                 252439 non-null object\n",
      "sat_src             252439 non-null object\n",
      "conf                252439 non-null int64\n",
      "frp                 252439 non-null float64\n",
      "fire_bool           252439 non-null bool\n",
      "urban_areas_bool    252439 non-null bool\n",
      "region_aland        247286 non-null float64\n",
      "region_awater       247286 non-null float64\n",
      "region_name         247286 non-null object\n",
      "region_lsad         247286 non-null float64\n",
      "region_code         247286 non-null float64\n",
      "county_aland        247286 non-null float64\n",
      "county_awater       247286 non-null float64\n",
      "county_name         247286 non-null object\n",
      "county_lsad         247286 non-null float64\n",
      "county_fips         247286 non-null float64\n",
      "state_aland         247286 non-null float64\n",
      "state_awater        247286 non-null float64\n",
      "state_name          247286 non-null object\n",
      "state_lsad          247286 non-null float64\n",
      "state_fips          247286 non-null float64\n",
      "dtypes: bool(2), float64(20), int64(6), object(7)\n",
      "memory usage: 66.0+ MB\n"
     ]
    }
   ],
   "source": [
    "fires_df_2012.info()"
   ]
  },
  {
   "cell_type": "code",
   "execution_count": 5,
   "metadata": {
    "collapsed": true
   },
   "outputs": [],
   "source": [
    "# I'm going to look at the following set of continous and categorical variables. \n",
    "continous_vars = ['lat', 'long', 'gmt', 'temp', 'spix', 'tpix', 'conf', 'frp', 'county_aland', 'county_awater']\n",
    "categorical_vars = ['urban_areas_bool', 'src', 'sat_src']"
   ]
  },
  {
   "cell_type": "code",
   "execution_count": 6,
   "metadata": {
    "collapsed": false
   },
   "outputs": [
    {
     "name": "stdout",
     "output_type": "stream",
     "text": [
      "(252439,)\n",
      "(248341,)\n"
     ]
    }
   ],
   "source": [
    "# Test out the outliers function to make sure it runs. \n",
    "print fires_df_2012['lat'].values.shape\n",
    "print remove_outliers(fires_df_2012['lat']).shape"
   ]
  },
  {
   "cell_type": "code",
   "execution_count": 33,
   "metadata": {
    "collapsed": false
   },
   "outputs": [
    {
     "data": {
      "image/png": "[encoded data removed]",
      "text/plain": [
       "<matplotlib.figure.Figure at 0x11086e610>"
      ]
     },
     "metadata": {},
     "output_type": "display_data"
    }
   ],
   "source": [
    "# Testing out the plot_var_dist function for a categorical variable. \n",
    "plot_var_dist(fires_df_2012['urban_areas_bool'], categorical=True)"
   ]
  },
  {
   "cell_type": "code",
   "execution_count": 32,
   "metadata": {
    "collapsed": false
   },
   "outputs": [
    {
     "data": {
      "image/png": "[encoded data removed]",
      "text/plain": [
       "<matplotlib.figure.Figure at 0x111563310>"
      ]
     },
     "metadata": {},
     "output_type": "display_data"
    }
   ],
   "source": [
    "# Testing out the plot_var_dist function for a continuous variable. \n",
    "plot_var_dist(fires_df_2012['lat'])"
   ]
  },
  {
   "cell_type": "code",
   "execution_count": null,
   "metadata": {
    "collapsed": false
   },
   "outputs": [],
   "source": []
  },
  {
   "cell_type": "code",
   "execution_count": null,
   "metadata": {
    "collapsed": false
   },
   "outputs": [],
   "source": []
  },
  {
   "cell_type": "code",
   "execution_count": null,
   "metadata": {
    "collapsed": false
   },
   "outputs": [],
   "source": []
  },
  {
   "cell_type": "code",
   "execution_count": null,
   "metadata": {
    "collapsed": true
   },
   "outputs": [],
   "source": []
  }
 ],
 "metadata": {
  "kernelspec": {
   "display_name": "Python 2",
   "language": "python",
   "name": "python2"
  },
  "language_info": {
   "codemirror_mode": {
    "name": "ipython",
    "version": 2
   },
   "file_extension": ".py",
   "mimetype": "text/x-python",
   "name": "python",
   "nbconvert_exporter": "python",
   "pygments_lexer": "ipython2",
   "version": "2.7.11"
  }
 },
 "nbformat": 4,
 "nbformat_minor": 0
}
