{
 "cells": [
  {
   "cell_type": "code",
   "execution_count": 1,
   "metadata": {
    "collapsed": false
   },
   "outputs": [],
   "source": [
    "import pandas as pd\n",
    "import numpy as np\n",
    "%matplotlib inline"
   ]
  },
  {
   "cell_type": "code",
   "execution_count": 2,
   "metadata": {
    "collapsed": false
   },
   "outputs": [
    {
     "data": {
      "text/plain": [
       "Index([u'ogc_fid', u'wkb_geometry', u'area', u'perimeter', u'fire_',\n",
       "       u'fire_id', u'lat', u'long', u'date', u'julian', u'gmt', u'temp',\n",
       "       u'spix', u'tpix', u'src', u'sat_src', u'conf', u'frp', u'fire_bool',\n",
       "       u'urban_areas_bool', u'region_aland', u'region_awater', u'region_name',\n",
       "       u'region_lsad', u'region_code', u'county_aland', u'county_awater',\n",
       "       u'county_name', u'county_lsad', u'county_fips', u'state_aland',\n",
       "       u'state_awater', u'state_name', u'state_lsad', u'state_fips'],\n",
       "      dtype='object')"
      ]
     },
     "execution_count": 2,
     "metadata": {},
     "output_type": "execute_result"
    }
   ],
   "source": [
    "df_2012 = pd.read_csv('../../data/csvs/detected_fires_2012.csv', true_values = ['t'], false_values=['f'], index_col=False)\n",
    "df_2012.columns"
   ]
  },
  {
   "cell_type": "code",
   "execution_count": 3,
   "metadata": {
    "collapsed": false
   },
   "outputs": [],
   "source": [
    "df_2012['month'] = df_2012.date.apply(lambda x: x.split('-')[1])\n",
    "df_2012.eval('land_water_ratio = county_aland / county_awater')\n",
    "df_2012.fillna(0, inplace=True)"
   ]
  },
  {
   "cell_type": "code",
   "execution_count": 4,
   "metadata": {
    "collapsed": false
   },
   "outputs": [
    {
     "data": {
      "text/plain": [
       "0           9.333450\n",
       "1           9.333450\n",
       "2           9.333450\n",
       "3           8.451723\n",
       "4         126.894991\n",
       "5         126.894991\n",
       "6         176.001224\n",
       "7         176.001224\n",
       "8         105.144298\n",
       "9         105.144298\n",
       "10        105.144298\n",
       "11         93.657627\n",
       "12        198.687225\n",
       "13        176.001224\n",
       "14        234.417450\n",
       "15          4.447329\n",
       "16        113.394714\n",
       "17        110.511527\n",
       "18        110.511527\n",
       "19        110.511527\n",
       "20        573.872932\n",
       "21        573.872932\n",
       "22        171.576338\n",
       "23        171.576338\n",
       "24        185.875384\n",
       "25          2.347515\n",
       "26         37.118013\n",
       "27         37.118013\n",
       "28         37.118013\n",
       "29        356.715321\n",
       "             ...    \n",
       "252409      0.000000\n",
       "252410      0.000000\n",
       "252411      0.000000\n",
       "252412      0.000000\n",
       "252413      0.000000\n",
       "252414      0.000000\n",
       "252415      0.000000\n",
       "252416      0.000000\n",
       "252417      0.000000\n",
       "252418      0.000000\n",
       "252419      0.000000\n",
       "252420      0.000000\n",
       "252421      0.000000\n",
       "252422      0.000000\n",
       "252423      0.000000\n",
       "252424      0.000000\n",
       "252425      0.000000\n",
       "252426      0.000000\n",
       "252427      0.000000\n",
       "252428      0.000000\n",
       "252429      0.000000\n",
       "252430      0.000000\n",
       "252431      0.000000\n",
       "252432      0.000000\n",
       "252433      0.000000\n",
       "252434      0.000000\n",
       "252435      0.000000\n",
       "252436      0.000000\n",
       "252437      0.000000\n",
       "252438      0.000000\n",
       "Name: land_water_ratio, dtype: float64"
      ]
     },
     "execution_count": 4,
     "metadata": {},
     "output_type": "execute_result"
    }
   ],
   "source": [
    "df_2012.land_water_ratio"
   ]
  },
  {
   "cell_type": "code",
   "execution_count": 5,
   "metadata": {
    "collapsed": true
   },
   "outputs": [],
   "source": [
    "keep_columns = ['fire_bool', 'lat', 'long', 'gmt', 'frp', 'conf', 'urban_areas_bool', 'month', 'land_water_ratio']"
   ]
  },
  {
   "cell_type": "code",
   "execution_count": 6,
   "metadata": {
    "collapsed": false
   },
   "outputs": [
    {
     "data": {
      "text/plain": [
       "Index([u'fire_bool', u'lat', u'long', u'gmt', u'frp', u'conf',\n",
       "       u'urban_areas_bool', u'month', u'land_water_ratio'],\n",
       "      dtype='object')"
      ]
     },
     "execution_count": 6,
     "metadata": {},
     "output_type": "execute_result"
    }
   ],
   "source": [
    "df_2012 = df_2012[keep_columns]\n",
    "df_2012.columns"
   ]
  },
  {
   "cell_type": "code",
   "execution_count": 7,
   "metadata": {
    "collapsed": false
   },
   "outputs": [],
   "source": [
    "continuous_cols = ['lat', 'long', 'gmt', 'frp', 'conf']\n",
    "discrete_cols = ['urban_areas_bool', 'month']"
   ]
  },
  {
   "cell_type": "code",
   "execution_count": 8,
   "metadata": {
    "collapsed": false,
    "scrolled": true
   },
   "outputs": [
    {
     "name": "stdout",
     "output_type": "stream",
     "text": [
      "--------------------------------------------------\n",
      "lat\n",
      "count    59731.000000\n",
      "mean        42.557863\n",
      "std          3.629122\n",
      "min         25.384000\n",
      "25%         40.690000\n",
      "50%         43.031000\n",
      "75%         45.457000\n",
      "max         48.840000\n",
      "Name: lat, dtype: float64\n",
      "count    192708.000000\n",
      "mean         38.768174\n",
      "std           6.108524\n",
      "min          25.169000\n",
      "25%          33.104000\n",
      "50%          39.542000\n",
      "75%          44.343000\n",
      "max          49.455000\n",
      "Name: lat, dtype: float64\n",
      "--------------------------------------------------\n",
      "long\n",
      "count    59731.000000\n",
      "mean      -114.247726\n",
      "std          5.946087\n",
      "min       -123.521000\n",
      "25%       -118.457000\n",
      "50%       -114.942000\n",
      "75%       -110.510500\n",
      "max        -78.338000\n",
      "Name: long, dtype: float64\n",
      "count    192708.000000\n",
      "mean       -102.478641\n",
      "std          13.381181\n",
      "min        -124.477000\n",
      "25%        -114.906000\n",
      "50%        -103.641000\n",
      "75%         -91.364750\n",
      "max         -66.720000\n",
      "Name: long, dtype: float64\n",
      "--------------------------------------------------\n",
      "gmt\n",
      "count    59731.000000\n",
      "mean      1297.925784\n",
      "std        673.616166\n",
      "min        252.000000\n",
      "25%        549.000000\n",
      "50%       1031.000000\n",
      "75%       2006.000000\n",
      "max       2211.000000\n",
      "Name: gmt, dtype: float64\n",
      "count    192708.000000\n",
      "mean       1626.379367\n",
      "std         517.959846\n",
      "min         232.000000\n",
      "25%        1627.000000\n",
      "50%        1833.000000\n",
      "75%        1942.000000\n",
      "max        2212.000000\n",
      "Name: gmt, dtype: float64\n",
      "--------------------------------------------------\n",
      "frp\n",
      "count    59731.000000\n",
      "mean       160.391314\n",
      "std        325.258183\n",
      "min          0.000000\n",
      "25%         32.000000\n",
      "50%         62.200000\n",
      "75%        144.150000\n",
      "max       7419.200000\n",
      "Name: frp, dtype: float64\n",
      "count    192708.000000\n",
      "mean         97.911587\n",
      "std         270.310035\n",
      "min           0.000000\n",
      "25%          19.600000\n",
      "50%          38.200000\n",
      "75%          85.700000\n",
      "max       13472.000000\n",
      "Name: frp, dtype: float64\n",
      "--------------------------------------------------\n",
      "conf\n",
      "count    59731.000000\n",
      "mean        79.220723\n",
      "std         24.988549\n",
      "min          0.000000\n",
      "25%         64.500000\n",
      "50%         90.000000\n",
      "75%        100.000000\n",
      "max        100.000000\n",
      "Name: conf, dtype: float64\n",
      "count    192708.000000\n",
      "mean         71.703266\n",
      "std          22.811720\n",
      "min           0.000000\n",
      "25%          57.000000\n",
      "50%          75.000000\n",
      "75%          91.000000\n",
      "max         100.000000\n",
      "Name: conf, dtype: float64\n"
     ]
    }
   ],
   "source": [
    "for col in continuous_cols: \n",
    "    print '-' * 50\n",
    "    print col \n",
    "    print df_2012.query('fire_bool == True')[col].describe()\n",
    "    print df_2012.query('fire_bool == False')[col].describe()"
   ]
  },
  {
   "cell_type": "code",
   "execution_count": 9,
   "metadata": {
    "collapsed": false
   },
   "outputs": [
    {
     "name": "stdout",
     "output_type": "stream",
     "text": [
      "urban_areas_bool\n",
      "False    59721\n",
      "True        10\n",
      "Name: fire_bool, dtype: int64\n",
      "urban_areas_bool\n",
      "False    185759\n",
      "True       6949\n",
      "Name: fire_bool, dtype: int64\n",
      "month\n",
      "02        2\n",
      "03        4\n",
      "04      319\n",
      "05     1904\n",
      "06     8737\n",
      "07     9697\n",
      "08    27248\n",
      "09    11080\n",
      "10      681\n",
      "11       41\n",
      "12       18\n",
      "Name: fire_bool, dtype: int64\n",
      "month\n",
      "01     3239\n",
      "02     2421\n",
      "03    10215\n",
      "04     6128\n",
      "05    10103\n",
      "06    24863\n",
      "07    19668\n",
      "08    45747\n",
      "09    34123\n",
      "10    20089\n",
      "11    12124\n",
      "12     3988\n",
      "Name: fire_bool, dtype: int64\n"
     ]
    }
   ],
   "source": [
    "for col in discrete_cols: \n",
    "    print df_2012.query('fire_bool == True').groupby(col).count()['fire_bool']\n",
    "    print df_2012.query('fire_bool == False').groupby(col).count()['fire_bool']"
   ]
  },
  {
   "cell_type": "code",
   "execution_count": 10,
   "metadata": {
    "collapsed": false
   },
   "outputs": [],
   "source": [
    "# Let's put everything I just did into a function so I can look at all years. In reality \n",
    "# I'd probably put this in multiple functions, but this is eda. \n",
    "def veiwing_func(year):\n",
    "    filepath = '../../data/csvs/detected_fires_' + str(year) + '.csv'\n",
    "    df = pd.read_csv(filepath, true_values = ['t'], false_values=['f'], index_col=False)\n",
    "    df['month'] = df.date.apply(lambda x: x.split('-')[1])\n",
    "    df.eval('land_water_ratio = county_aland / county_awater')\n",
    "    df.fillna(0, inplace=True)\n",
    "    df.replace(np.inf, 0, inplace=True)\n",
    "    keep_columns = ['fire_bool', 'lat', 'long', 'gmt', 'frp', 'conf', 'urban_areas_bool', 'month', 'land_water_ratio']\n",
    "    df = df[keep_columns]\n",
    "    continuous_cols = ['lat', 'long', 'gmt', 'frp', 'conf', 'land_water_ratio']\n",
    "    discrete_cols = ['urban_areas_bool', 'month']\n",
    "    print '*' * 50 \n",
    "    print 'Continuous Variables'\n",
    "    for col in continuous_cols: \n",
    "        print '-' * 50\n",
    "        print col \n",
    "        print df.query('fire_bool == True')[col].describe()\n",
    "        print df.query('fire_bool == False')[col].describe()\n",
    "    print '*' * 50 \n",
    "    print 'Discrete Variables'\n",
    "    for col in discrete_cols: \n",
    "        print df.query('fire_bool == True').groupby(col).count()['fire_bool']\n",
    "        print df.query('fire_bool == False').groupby(col).count()['fire_bool']"
   ]
  },
  {
   "cell_type": "code",
   "execution_count": 11,
   "metadata": {
    "collapsed": false,
    "scrolled": true
   },
   "outputs": [
    {
     "name": "stdout",
     "output_type": "stream",
     "text": [
      "**************************************************\n",
      "Continuous Variables\n",
      "--------------------------------------------------\n",
      "lat\n",
      "count    59731.000000\n",
      "mean        42.557863\n",
      "std          3.629122\n",
      "min         25.384000\n",
      "25%         40.690000\n",
      "50%         43.031000\n",
      "75%         45.457000\n",
      "max         48.840000\n",
      "Name: lat, dtype: float64\n",
      "count    192708.000000\n",
      "mean         38.768174\n",
      "std           6.108524\n",
      "min          25.169000\n",
      "25%          33.104000\n",
      "50%          39.542000\n",
      "75%          44.343000\n",
      "max          49.455000\n",
      "Name: lat, dtype: float64\n",
      "--------------------------------------------------\n",
      "long\n",
      "count    59731.000000\n",
      "mean      -114.247726\n",
      "std          5.946087\n",
      "min       -123.521000\n",
      "25%       -118.457000\n",
      "50%       -114.942000\n",
      "75%       -110.510500\n",
      "max        -78.338000\n",
      "Name: long, dtype: float64\n",
      "count    192708.000000\n",
      "mean       -102.478641\n",
      "std          13.381181\n",
      "min        -124.477000\n",
      "25%        -114.906000\n",
      "50%        -103.641000\n",
      "75%         -91.364750\n",
      "max         -66.720000\n",
      "Name: long, dtype: float64\n",
      "--------------------------------------------------\n",
      "gmt\n",
      "count    59731.000000\n",
      "mean      1297.925784\n",
      "std        673.616166\n",
      "min        252.000000\n",
      "25%        549.000000\n",
      "50%       1031.000000\n",
      "75%       2006.000000\n",
      "max       2211.000000\n",
      "Name: gmt, dtype: float64\n",
      "count    192708.000000\n",
      "mean       1626.379367\n",
      "std         517.959846\n",
      "min         232.000000\n",
      "25%        1627.000000\n",
      "50%        1833.000000\n",
      "75%        1942.000000\n",
      "max        2212.000000\n",
      "Name: gmt, dtype: float64\n",
      "--------------------------------------------------\n",
      "frp\n",
      "count    59731.000000\n",
      "mean       160.391314\n",
      "std        325.258183\n",
      "min          0.000000\n",
      "25%         32.000000\n",
      "50%         62.200000\n",
      "75%        144.150000\n",
      "max       7419.200000\n",
      "Name: frp, dtype: float64\n",
      "count    192708.000000\n",
      "mean         97.911587\n",
      "std         270.310035\n",
      "min           0.000000\n",
      "25%          19.600000\n",
      "50%          38.200000\n",
      "75%          85.700000\n",
      "max       13472.000000\n",
      "Name: frp, dtype: float64\n",
      "--------------------------------------------------\n",
      "conf\n",
      "count    59731.000000\n",
      "mean        79.220723\n",
      "std         24.988549\n",
      "min          0.000000\n",
      "25%         64.500000\n",
      "50%         90.000000\n",
      "75%        100.000000\n",
      "max        100.000000\n",
      "Name: conf, dtype: float64\n",
      "count    192708.000000\n",
      "mean         71.703266\n",
      "std          22.811720\n",
      "min           0.000000\n",
      "25%          57.000000\n",
      "50%          75.000000\n",
      "75%          91.000000\n",
      "max         100.000000\n",
      "Name: conf, dtype: float64\n",
      "--------------------------------------------------\n",
      "land_water_ratio\n",
      "count    59731.000000\n",
      "mean       764.931199\n",
      "std       2583.917583\n",
      "min          1.971326\n",
      "25%         84.356553\n",
      "50%        234.417450\n",
      "75%        367.922917\n",
      "max      28442.892680\n",
      "Name: land_water_ratio, dtype: float64\n",
      "count    192708.000000\n",
      "mean        384.536556\n",
      "std        2250.774282\n",
      "min           0.000000\n",
      "25%          36.440199\n",
      "50%         103.555406\n",
      "75%         300.683783\n",
      "max      136339.214986\n",
      "Name: land_water_ratio, dtype: float64\n",
      "**************************************************\n",
      "Discrete Variables\n",
      "urban_areas_bool\n",
      "False    59721\n",
      "True        10\n",
      "Name: fire_bool, dtype: int64\n",
      "urban_areas_bool\n",
      "False    185759\n",
      "True       6949\n",
      "Name: fire_bool, dtype: int64\n",
      "month\n",
      "02        2\n",
      "03        4\n",
      "04      319\n",
      "05     1904\n",
      "06     8737\n",
      "07     9697\n",
      "08    27248\n",
      "09    11080\n",
      "10      681\n",
      "11       41\n",
      "12       18\n",
      "Name: fire_bool, dtype: int64\n",
      "month\n",
      "01     3239\n",
      "02     2421\n",
      "03    10215\n",
      "04     6128\n",
      "05    10103\n",
      "06    24863\n",
      "07    19668\n",
      "08    45747\n",
      "09    34123\n",
      "10    20089\n",
      "11    12124\n",
      "12     3988\n",
      "Name: fire_bool, dtype: int64\n"
     ]
    }
   ],
   "source": [
    "veiwing_func(2012)"
   ]
  },
  {
   "cell_type": "code",
   "execution_count": 12,
   "metadata": {
    "collapsed": false,
    "scrolled": true
   },
   "outputs": [
    {
     "name": "stdout",
     "output_type": "stream",
     "text": [
      "**************************************************\n",
      "Continuous Variables\n",
      "--------------------------------------------------\n",
      "lat\n",
      "count    26997.000000\n",
      "mean        40.235121\n",
      "std          4.015681\n",
      "min         29.150000\n",
      "25%         37.807000\n",
      "50%         39.146000\n",
      "75%         43.563000\n",
      "max         48.143000\n",
      "Name: lat, dtype: float64\n",
      "count    157428.00000\n",
      "mean         36.16357\n",
      "std           5.76330\n",
      "min          25.16300\n",
      "25%          31.54200\n",
      "50%          34.37900\n",
      "75%          40.66525\n",
      "max          49.45500\n",
      "Name: lat, dtype: float64\n",
      "--------------------------------------------------\n",
      "long\n",
      "count    26997.000000\n",
      "mean      -116.976970\n",
      "std          5.049086\n",
      "min       -123.830000\n",
      "25%       -120.103000\n",
      "50%       -119.412000\n",
      "75%       -114.591000\n",
      "max        -79.305000\n",
      "Name: long, dtype: float64\n",
      "count    157428.000000\n",
      "mean        -98.011095\n",
      "std          13.861507\n",
      "min        -124.955000\n",
      "25%        -111.947500\n",
      "50%         -94.575500\n",
      "75%         -85.801000\n",
      "max         -67.409000\n",
      "Name: long, dtype: float64\n",
      "--------------------------------------------------\n",
      "gmt\n",
      "count    26997.000000\n",
      "mean      1338.228433\n",
      "std        660.183984\n",
      "min        308.000000\n",
      "25%        608.000000\n",
      "50%       1729.000000\n",
      "75%       2010.000000\n",
      "max       2212.000000\n",
      "Name: gmt, dtype: float64\n",
      "count    157428.000000\n",
      "mean       1697.500813\n",
      "std         415.925192\n",
      "min         238.000000\n",
      "25%        1640.000000\n",
      "50%        1833.000000\n",
      "75%        1925.000000\n",
      "max        2212.000000\n",
      "Name: gmt, dtype: float64\n",
      "--------------------------------------------------\n",
      "frp\n",
      "count    26997.000000\n",
      "mean       163.541290\n",
      "std        359.979962\n",
      "min          0.000000\n",
      "25%         32.200000\n",
      "50%         64.400000\n",
      "75%        145.100000\n",
      "max      11622.900000\n",
      "Name: frp, dtype: float64\n",
      "count    157428.000000\n",
      "mean         74.655631\n",
      "std         226.512505\n",
      "min          -1.000000\n",
      "25%          16.400000\n",
      "50%          30.600000\n",
      "75%          65.500000\n",
      "max       13227.200000\n",
      "Name: frp, dtype: float64\n",
      "--------------------------------------------------\n",
      "conf\n",
      "count    26997.000000\n",
      "mean        79.256806\n",
      "std         25.313466\n",
      "min          0.000000\n",
      "25%         64.000000\n",
      "50%         91.000000\n",
      "75%        100.000000\n",
      "max        100.000000\n",
      "Name: conf, dtype: float64\n",
      "count    157428.000000\n",
      "mean         68.765785\n",
      "std          21.519899\n",
      "min           0.000000\n",
      "25%          55.000000\n",
      "50%          70.000000\n",
      "75%          85.000000\n",
      "max         100.000000\n",
      "Name: conf, dtype: float64\n",
      "--------------------------------------------------\n",
      "land_water_ratio\n",
      "count    26997.000000\n",
      "mean       176.968524\n",
      "std        332.225688\n",
      "min          2.595018\n",
      "25%         41.476306\n",
      "50%         72.971410\n",
      "75%        171.576338\n",
      "max       6193.264294\n",
      "Name: land_water_ratio, dtype: float64\n",
      "count    157428.000000\n",
      "mean        278.391070\n",
      "std        2282.810119\n",
      "min           0.000000\n",
      "25%          23.313229\n",
      "50%          72.971410\n",
      "75%         168.215835\n",
      "max      136339.214986\n",
      "Name: land_water_ratio, dtype: float64\n",
      "**************************************************\n",
      "Discrete Variables\n",
      "urban_areas_bool\n",
      "False    26992\n",
      "True         5\n",
      "Name: fire_bool, dtype: int64\n",
      "urban_areas_bool\n",
      "False    150856\n",
      "True       6572\n",
      "Name: fire_bool, dtype: int64\n",
      "month\n",
      "02        3\n",
      "04       11\n",
      "05      536\n",
      "06     3666\n",
      "07     5545\n",
      "08    15151\n",
      "09     2034\n",
      "10        4\n",
      "11       38\n",
      "12        9\n",
      "Name: fire_bool, dtype: int64\n",
      "month\n",
      "01     5845\n",
      "02     7011\n",
      "03    20109\n",
      "04    14388\n",
      "05     9668\n",
      "06    16367\n",
      "07    13582\n",
      "08    24761\n",
      "09    17275\n",
      "10    15498\n",
      "11     8552\n",
      "12     4372\n",
      "Name: fire_bool, dtype: int64\n"
     ]
    }
   ],
   "source": [
    "veiwing_func(2013)"
   ]
  },
  {
   "cell_type": "code",
   "execution_count": 13,
   "metadata": {
    "collapsed": false,
    "scrolled": true
   },
   "outputs": [
    {
     "name": "stdout",
     "output_type": "stream",
     "text": [
      "**************************************************\n",
      "Continuous Variables\n",
      "--------------------------------------------------\n",
      "lat\n",
      "count    23932.000000\n",
      "mean        42.587513\n",
      "std          4.189093\n",
      "min         26.157000\n",
      "25%         40.788000\n",
      "50%         41.997000\n",
      "75%         45.668250\n",
      "max         48.790000\n",
      "Name: lat, dtype: float64\n",
      "count    205756.000000\n",
      "mean         36.262295\n",
      "std           5.715135\n",
      "min          25.165000\n",
      "25%          31.833000\n",
      "50%          34.962000\n",
      "75%          39.976000\n",
      "max          49.454000\n",
      "Name: lat, dtype: float64\n",
      "--------------------------------------------------\n",
      "long\n",
      "count    23932.000000\n",
      "mean      -119.401643\n",
      "std          3.799057\n",
      "min       -123.750000\n",
      "25%       -121.647750\n",
      "50%       -120.323000\n",
      "75%       -118.361000\n",
      "max        -80.988000\n",
      "Name: long, dtype: float64\n",
      "count    205756.000000\n",
      "mean        -96.402913\n",
      "std          13.443744\n",
      "min        -124.881000\n",
      "25%        -102.977000\n",
      "50%         -93.772000\n",
      "75%         -85.328000\n",
      "max         -66.926000\n",
      "Name: long, dtype: float64\n",
      "--------------------------------------------------\n",
      "gmt\n",
      "count    23932.000000\n",
      "mean      1309.601371\n",
      "std        654.226839\n",
      "min        339.000000\n",
      "25%        610.000000\n",
      "50%       1025.000000\n",
      "75%       2025.000000\n",
      "max       2212.000000\n",
      "Name: gmt, dtype: float64\n",
      "count    205756.000000\n",
      "mean       1716.479242\n",
      "std         388.626416\n",
      "min         157.000000\n",
      "25%        1645.000000\n",
      "50%        1834.000000\n",
      "75%        1930.000000\n",
      "max        2213.000000\n",
      "Name: gmt, dtype: float64\n",
      "--------------------------------------------------\n",
      "frp\n",
      "count    23932.000000\n",
      "mean       137.239094\n",
      "std        338.090073\n",
      "min          0.000000\n",
      "25%         28.200000\n",
      "50%         55.800000\n",
      "75%        121.200000\n",
      "max       8643.600000\n",
      "Name: frp, dtype: float64\n",
      "count    205756.000000\n",
      "mean         48.870137\n",
      "std         107.741174\n",
      "min           0.000000\n",
      "25%          12.400000\n",
      "50%          23.400000\n",
      "75%          49.300000\n",
      "max        7984.300000\n",
      "Name: frp, dtype: float64\n",
      "--------------------------------------------------\n",
      "conf\n",
      "count    23932.000000\n",
      "mean        78.737506\n",
      "std         25.426545\n",
      "min          0.000000\n",
      "25%         63.000000\n",
      "50%         90.000000\n",
      "75%        100.000000\n",
      "max        100.000000\n",
      "Name: conf, dtype: float64\n",
      "count    205756.000000\n",
      "mean         66.970499\n",
      "std          20.466833\n",
      "min           0.000000\n",
      "25%          54.000000\n",
      "50%          68.000000\n",
      "75%          82.000000\n",
      "max         100.000000\n",
      "Name: conf, dtype: float64\n",
      "--------------------------------------------------\n",
      "land_water_ratio\n",
      "count    23932.000000\n",
      "mean       456.688759\n",
      "std       1299.999512\n",
      "min          2.254029\n",
      "25%         52.421469\n",
      "50%        108.678009\n",
      "75%        176.001224\n",
      "max       6193.264294\n",
      "Name: land_water_ratio, dtype: float64\n",
      "count    205756.000000\n",
      "mean        243.211403\n",
      "std        1375.903289\n",
      "min           0.000000\n",
      "25%          25.174097\n",
      "50%          74.186004\n",
      "75%         154.300271\n",
      "max      136339.216974\n",
      "Name: land_water_ratio, dtype: float64\n",
      "**************************************************\n",
      "Discrete Variables\n",
      "urban_areas_bool\n",
      "False    23902\n",
      "True        30\n",
      "Name: fire_bool, dtype: int64\n",
      "urban_areas_bool\n",
      "False    197577\n",
      "True       8179\n",
      "Name: fire_bool, dtype: int64\n",
      "month\n",
      "01      35\n",
      "02       3\n",
      "04      36\n",
      "05    1237\n",
      "06    1126\n",
      "07    8680\n",
      "08    8513\n",
      "09    4283\n",
      "10       4\n",
      "11      15\n",
      "Name: fire_bool, dtype: int64\n",
      "month\n",
      "01     8744\n",
      "02    10460\n",
      "03    29751\n",
      "04    34473\n",
      "05    14885\n",
      "06    10352\n",
      "07    15870\n",
      "08    19282\n",
      "09    17173\n",
      "10    25043\n",
      "11    12469\n",
      "12     7254\n",
      "Name: fire_bool, dtype: int64\n"
     ]
    },
    {
     "name": "stderr",
     "output_type": "stream",
     "text": [
      "/Users/sallamander/anaconda/lib/python2.7/site-packages/pandas/io/parsers.py:1170: DtypeWarning: Columns (22,27,32) have mixed types. Specify dtype option on import or set low_memory=False.\n",
      "  data = self._reader.read(nrows)\n"
     ]
    }
   ],
   "source": [
    "veiwing_func(2014)"
   ]
  },
  {
   "cell_type": "code",
   "execution_count": 14,
   "metadata": {
    "collapsed": false,
    "scrolled": true
   },
   "outputs": [
    {
     "name": "stdout",
     "output_type": "stream",
     "text": [
      "**************************************************\n",
      "Continuous Variables\n",
      "--------------------------------------------------\n",
      "lat\n",
      "count    32897.000000\n",
      "mean        45.097602\n",
      "std          3.940966\n",
      "min         25.586000\n",
      "25%         43.268000\n",
      "50%         46.125000\n",
      "75%         48.367000\n",
      "max         48.999000\n",
      "Name: lat, dtype: float64\n",
      "count    115352.000000\n",
      "mean         38.857856\n",
      "std           6.622151\n",
      "min          25.170000\n",
      "25%          33.022750\n",
      "50%          37.905000\n",
      "75%          45.611250\n",
      "max          49.690000\n",
      "Name: lat, dtype: float64\n",
      "--------------------------------------------------\n",
      "long\n",
      "count    32897.000000\n",
      "mean      -118.922052\n",
      "std          3.162893\n",
      "min       -124.582000\n",
      "25%       -120.143000\n",
      "50%       -118.963000\n",
      "75%       -117.749000\n",
      "max        -80.893000\n",
      "Name: long, dtype: float64\n",
      "count    115352.000000\n",
      "mean       -101.578153\n",
      "std          14.716002\n",
      "min        -124.862000\n",
      "25%        -117.007250\n",
      "50%         -97.764500\n",
      "75%         -89.300000\n",
      "max         -66.537000\n",
      "Name: long, dtype: float64\n",
      "--------------------------------------------------\n",
      "gmt\n",
      "count    32897.000000\n",
      "mean      1306.137551\n",
      "std        669.827143\n",
      "min        313.000000\n",
      "25%        600.000000\n",
      "50%       1024.000000\n",
      "75%       2020.000000\n",
      "max       2212.000000\n",
      "Name: gmt, dtype: float64\n",
      "count    115352.000000\n",
      "mean       1652.917955\n",
      "std         478.238755\n",
      "min         220.000000\n",
      "25%        1634.000000\n",
      "50%        1833.000000\n",
      "75%        1936.000000\n",
      "max        2213.000000\n",
      "Name: gmt, dtype: float64\n",
      "--------------------------------------------------\n",
      "frp\n",
      "count    32897.000000\n",
      "mean       145.895066\n",
      "std        387.196952\n",
      "min          0.000000\n",
      "25%         25.500000\n",
      "50%         50.800000\n",
      "75%        117.700000\n",
      "max      13692.200000\n",
      "Name: frp, dtype: float64\n",
      "count    115352.000000\n",
      "mean         57.091728\n",
      "std         150.120219\n",
      "min           0.000000\n",
      "25%          11.800000\n",
      "50%          23.200000\n",
      "75%          51.800000\n",
      "max       12082.900000\n",
      "Name: frp, dtype: float64\n",
      "--------------------------------------------------\n",
      "conf\n",
      "count    32897.000000\n",
      "mean        77.009636\n",
      "std         26.254157\n",
      "min          0.000000\n",
      "25%         59.000000\n",
      "50%         88.000000\n",
      "75%        100.000000\n",
      "max        100.000000\n",
      "Name: conf, dtype: float64\n",
      "count    115352.000000\n",
      "mean         66.560745\n",
      "std          22.151764\n",
      "min           0.000000\n",
      "25%          52.000000\n",
      "50%          67.000000\n",
      "75%          83.000000\n",
      "max         100.000000\n",
      "Name: conf, dtype: float64\n",
      "--------------------------------------------------\n",
      "land_water_ratio\n",
      "count    32897.000000\n",
      "mean       461.027900\n",
      "std       1346.918700\n",
      "min          0.356926\n",
      "25%         80.017712\n",
      "50%        112.552711\n",
      "75%        234.417450\n",
      "max       6193.264294\n",
      "Name: land_water_ratio, dtype: float64\n",
      "count    115352.000000\n",
      "mean        318.594764\n",
      "std        2844.603368\n",
      "min           0.000000\n",
      "25%          30.545081\n",
      "50%          87.406758\n",
      "75%         170.815982\n",
      "max      136339.216974\n",
      "Name: land_water_ratio, dtype: float64\n",
      "**************************************************\n",
      "Discrete Variables\n",
      "urban_areas_bool\n",
      "False    32897\n",
      "Name: fire_bool, dtype: int64\n",
      "urban_areas_bool\n",
      "False    111149\n",
      "True       4203\n",
      "Name: fire_bool, dtype: int64\n",
      "month\n",
      "04       21\n",
      "05       62\n",
      "06      763\n",
      "07      780\n",
      "08    29848\n",
      "09     1321\n",
      "10      102\n",
      "Name: fire_bool, dtype: int64\n",
      "month\n",
      "01     4702\n",
      "02     6172\n",
      "03    11855\n",
      "04     9805\n",
      "05     4566\n",
      "06     5452\n",
      "07     5924\n",
      "08    39758\n",
      "09     8003\n",
      "10    11732\n",
      "11     3946\n",
      "12     3437\n",
      "Name: fire_bool, dtype: int64\n"
     ]
    }
   ],
   "source": [
    "veiwing_func(2015)"
   ]
  },
  {
   "cell_type": "code",
   "execution_count": 37,
   "metadata": {
    "collapsed": true
   },
   "outputs": [],
   "source": [
    "import matplotlib.pyplot as plt\n",
    "# Let's put everything I just did into a function so I can look at all years. In reality \n",
    "# I'd probably put this in multiple functions, but this is eda. \n",
    "def plotting_func(year):\n",
    "    filepath = '../../data/csvs/detected_fires_' + str(year) + '.csv'\n",
    "    df = pd.read_csv(filepath, true_values = ['t'], false_values=['f'], index_col=False)\n",
    "    df['month'] = df.date.apply(lambda x: x.split('-')[1]).astype(int)\n",
    "    df.eval('land_water_ratio = county_aland / county_awater')\n",
    "    df.fillna(0, inplace=True)\n",
    "    df.replace(np.inf, 0, inplace=True)\n",
    "    keep_columns = ['fire_bool', 'lat', 'long', 'gmt', 'frp', 'conf', 'urban_areas_bool', 'month', 'land_water_ratio']\n",
    "    df = df[keep_columns]\n",
    "    continuous_cols = ['lat', 'long', 'gmt', 'frp', 'conf', 'land_water_ratio']\n",
    "    discrete_cols = ['urban_areas_bool', 'month']\n",
    "    print '*' * 50 \n",
    "    print 'Continuous Variables'\n",
    "    for col in continuous_cols: \n",
    "        print '-' * 50\n",
    "        print col \n",
    "        fires =  df.query('fire_bool == True')[col]\n",
    "        non_fires = df.query('fire_bool == False')[col]\n",
    "        print 'FIRES'\n",
    "        fires.plot(kind='box')\n",
    "        plt.show()\n",
    "        plt.close('all')\n",
    "        print 'NON FIRES'\n",
    "        non_fires.plot(kind='box')\n",
    "        plt.show()\n",
    "        plt.close('all')\n",
    "    print '*' * 50 \n",
    "    print 'Discrete Variables'\n",
    "    for col in discrete_cols: \n",
    "        print '-' * 50\n",
    "        print col\n",
    "        fires = df.query('fire_bool == True')[col]\n",
    "        non_fires =  df.query('fire_bool == False')[col]\n",
    "        print 'FIRES'\n",
    "        print fires.dtype, non_fires.dtype\n",
    "        fires.plot(kind='hist')\n",
    "        plt.show()\n",
    "        plt.close('all')\n",
    "        print 'NON FIRES'\n",
    "        non_fires.plot(kind='hist')\n",
    "        plt.show()\n",
    "        plt.close('all')"
   ]
  },
  {
   "cell_type": "code",
   "execution_count": 38,
   "metadata": {
    "collapsed": false,
    "scrolled": true
   },
   "outputs": [
    {
     "name": "stdout",
     "output_type": "stream",
     "text": [
      "**************************************************\n",
      "Continuous Variables\n",
      "--------------------------------------------------\n",
      "lat\n",
      "FIRES\n"
     ]
    },
    {
     "data": {
      "image/png": "[encoded data removed]",
      "text/plain": [
       "<matplotlib.figure.Figure at 0x10ca41d90>"
      ]
     },
     "metadata": {},
     "output_type": "display_data"
    },
    {
     "name": "stdout",
     "output_type": "stream",
     "text": [
      "NON FIRES\n"
     ]
    },
    {
     "data": {
      "image/png": "[encoded data removed]",
      "text/plain": [
       "<matplotlib.figure.Figure at 0x10e065850>"
      ]
     },
     "metadata": {},
     "output_type": "display_data"
    },
    {
     "name": "stdout",
     "output_type": "stream",
     "text": [
      "--------------------------------------------------\n",
      "long\n",
      "FIRES\n"
     ]
    },
    {
     "data": {
      "image/png": "[encoded data removed]",
      "text/plain": [
       "<matplotlib.figure.Figure at 0x10cf8cd90>"
      ]
     },
     "metadata": {},
     "output_type": "display_data"
    },
    {
     "name": "stdout",
     "output_type": "stream",
     "text": [
      "NON FIRES\n"
     ]
    },
    {
     "data": {
      "image/png": "[encoded data removed]",
      "text/plain": [
       "<matplotlib.figure.Figure at 0x10f164450>"
      ]
     },
     "metadata": {},
     "output_type": "display_data"
    },
    {
     "name": "stdout",
     "output_type": "stream",
     "text": [
      "--------------------------------------------------\n",
      "gmt\n",
      "FIRES\n"
     ]
    },
    {
     "data": {
      "image/png": "[encoded data removed]",
      "text/plain": [
       "<matplotlib.figure.Figure at 0x10f16cc90>"
      ]
     },
     "metadata": {},
     "output_type": "display_data"
    },
    {
     "name": "stdout",
     "output_type": "stream",
     "text": [
      "NON FIRES\n"
     ]
    },
    {
     "data": {
      "image/png": "[encoded data removed]",
      "text/plain": [
       "<matplotlib.figure.Figure at 0x113d84e50>"
      ]
     },
     "metadata": {},
     "output_type": "display_data"
    },
    {
     "name": "stdout",
     "output_type": "stream",
     "text": [
      "--------------------------------------------------\n",
      "frp\n",
      "FIRES\n"
     ]
    },
    {
     "data": {
      "image/png": "[encoded data removed]",
      "text/plain": [
       "<matplotlib.figure.Figure at 0x111beeb90>"
      ]
     },
     "metadata": {},
     "output_type": "display_data"
    },
    {
     "name": "stdout",
     "output_type": "stream",
     "text": [
      "NON FIRES\n"
     ]
    },
    {
     "data": {
      "image/png": "[encoded data removed]",
      "text/plain": [
       "<matplotlib.figure.Figure at 0x10c3e2450>"
      ]
     },
     "metadata": {},
     "output_type": "display_data"
    },
    {
     "name": "stdout",
     "output_type": "stream",
     "text": [
      "--------------------------------------------------\n",
      "conf\n",
      "FIRES\n"
     ]
    },
    {
     "data": {
      "image/png": "[encoded data removed]",
      "text/plain": [
       "<matplotlib.figure.Figure at 0x10f0c58d0>"
      ]
     },
     "metadata": {},
     "output_type": "display_data"
    },
    {
     "name": "stdout",
     "output_type": "stream",
     "text": [
      "NON FIRES\n"
     ]
    },
    {
     "data": {
      "image/png": "[encoded data removed]",
      "text/plain": [
       "<matplotlib.figure.Figure at 0x10d5d4310>"
      ]
     },
     "metadata": {},
     "output_type": "display_data"
    },
    {
     "name": "stdout",
     "output_type": "stream",
     "text": [
      "--------------------------------------------------\n",
      "land_water_ratio\n",
      "FIRES\n"
     ]
    },
    {
     "data": {
      "image/png": "[encoded data removed]",
      "text/plain": [
       "<matplotlib.figure.Figure at 0x10f1ab610>"
      ]
     },
     "metadata": {},
     "output_type": "display_data"
    },
    {
     "name": "stdout",
     "output_type": "stream",
     "text": [
      "NON FIRES\n"
     ]
    },
    {
     "data": {
      "image/png": "[encoded data removed]",
      "text/plain": [
       "<matplotlib.figure.Figure at 0x11169d9d0>"
      ]
     },
     "metadata": {},
     "output_type": "display_data"
    },
    {
     "name": "stdout",
     "output_type": "stream",
     "text": [
      "**************************************************\n",
      "Discrete Variables\n",
      "--------------------------------------------------\n",
      "urban_areas_bool\n",
      "FIRES\n",
      "bool bool\n"
     ]
    },
    {
     "data": {
      "image/png": "[encoded data removed]",
      "text/plain": [
       "<matplotlib.figure.Figure at 0x113764790>"
      ]
     },
     "metadata": {},
     "output_type": "display_data"
    },
    {
     "name": "stdout",
     "output_type": "stream",
     "text": [
      "NON FIRES\n"
     ]
    },
    {
     "data": {
      "image/png": "[encoded data removed]",
      "text/plain": [
       "<matplotlib.figure.Figure at 0x10ca58a90>"
      ]
     },
     "metadata": {},
     "output_type": "display_data"
    },
    {
     "name": "stdout",
     "output_type": "stream",
     "text": [
      "--------------------------------------------------\n",
      "month\n",
      "FIRES\n",
      "int64 int64\n"
     ]
    },
    {
     "data": {
      "image/png": "[encoded data removed]",
      "text/plain": [
       "<matplotlib.figure.Figure at 0x10f1ab490>"
      ]
     },
     "metadata": {},
     "output_type": "display_data"
    },
    {
     "name": "stdout",
     "output_type": "stream",
     "text": [
      "NON FIRES\n"
     ]
    },
    {
     "data": {
      "image/png": "[encoded data removed]",
      "text/plain": [
       "<matplotlib.figure.Figure at 0x10c961c50>"
      ]
     },
     "metadata": {},
     "output_type": "display_data"
    }
   ],
   "source": [
    "plotting_func(2012)"
   ]
  },
  {
   "cell_type": "code",
   "execution_count": 39,
   "metadata": {
    "collapsed": false,
    "scrolled": true
   },
   "outputs": [
    {
     "name": "stdout",
     "output_type": "stream",
     "text": [
      "**************************************************\n",
      "Continuous Variables\n",
      "--------------------------------------------------\n",
      "lat\n",
      "FIRES\n"
     ]
    },
    {
     "data": {
      "image/png": "[encoded data removed]",
      "text/plain": [
       "<matplotlib.figure.Figure at 0x10bbc6a50>"
      ]
     },
     "metadata": {},
     "output_type": "display_data"
    },
    {
     "name": "stdout",
     "output_type": "stream",
     "text": [
      "NON FIRES\n"
     ]
    },
    {
     "data": {
      "image/png": "[encoded data removed]",
      "text/plain": [
       "<matplotlib.figure.Figure at 0x10f0d31d0>"
      ]
     },
     "metadata": {},
     "output_type": "display_data"
    },
    {
     "name": "stdout",
     "output_type": "stream",
     "text": [
      "--------------------------------------------------\n",
      "long\n",
      "FIRES\n"
     ]
    },
    {
     "data": {
      "image/png": "[encoded data removed]",
      "text/plain": [
       "<matplotlib.figure.Figure at 0x10c3f1610>"
      ]
     },
     "metadata": {},
     "output_type": "display_data"
    },
    {
     "name": "stdout",
     "output_type": "stream",
     "text": [
      "NON FIRES\n"
     ]
    },
    {
     "data": {
      "image/png": "[encoded data removed]",
      "text/plain": [
       "<matplotlib.figure.Figure at 0x10bb44e10>"
      ]
     },
     "metadata": {},
     "output_type": "display_data"
    },
    {
     "name": "stdout",
     "output_type": "stream",
     "text": [
      "--------------------------------------------------\n",
      "gmt\n",
      "FIRES\n"
     ]
    },
    {
     "data": {
      "image/png": "[encoded data removed]",
      "text/plain": [
       "<matplotlib.figure.Figure at 0x1093208d0>"
      ]
     },
     "metadata": {},
     "output_type": "display_data"
    },
    {
     "name": "stdout",
     "output_type": "stream",
     "text": [
      "NON FIRES\n"
     ]
    },
    {
     "data": {
      "image/png": "[encoded data removed]",
      "text/plain": [
       "<matplotlib.figure.Figure at 0x10c978310>"
      ]
     },
     "metadata": {},
     "output_type": "display_data"
    },
    {
     "name": "stdout",
     "output_type": "stream",
     "text": [
      "--------------------------------------------------\n",
      "frp\n",
      "FIRES\n"
     ]
    },
    {
     "data": {
      "image/png": "[encoded data removed]",
      "text/plain": [
       "<matplotlib.figure.Figure at 0x10e6c5710>"
      ]
     },
     "metadata": {},
     "output_type": "display_data"
    },
    {
     "name": "stdout",
     "output_type": "stream",
     "text": [
      "NON FIRES\n"
     ]
    },
    {
     "data": {
      "image/png": "[encoded data removed]",
      "text/plain": [
       "<matplotlib.figure.Figure at 0x114420e90>"
      ]
     },
     "metadata": {},
     "output_type": "display_data"
    },
    {
     "name": "stdout",
     "output_type": "stream",
     "text": [
      "--------------------------------------------------\n",
      "conf\n",
      "FIRES\n"
     ]
    },
    {
     "data": {
      "image/png": "[encoded data removed]",
      "text/plain": [
       "<matplotlib.figure.Figure at 0x10c417a10>"
      ]
     },
     "metadata": {},
     "output_type": "display_data"
    },
    {
     "name": "stdout",
     "output_type": "stream",
     "text": [
      "NON FIRES\n"
     ]
    },
    {
     "data": {
      "image/png": "[encoded data removed]",
      "text/plain": [
       "<matplotlib.figure.Figure at 0x10e20a0d0>"
      ]
     },
     "metadata": {},
     "output_type": "display_data"
    },
    {
     "name": "stdout",
     "output_type": "stream",
     "text": [
      "--------------------------------------------------\n",
      "land_water_ratio\n",
      "FIRES\n"
     ]
    },
    {
     "data": {
      "image/png": "[encoded data removed]",
      "text/plain": [
       "<matplotlib.figure.Figure at 0x10bbc6b50>"
      ]
     },
     "metadata": {},
     "output_type": "display_data"
    },
    {
     "name": "stdout",
     "output_type": "stream",
     "text": [
      "NON FIRES\n"
     ]
    },
    {
     "data": {
      "image/png": "[encoded data removed]",
      "text/plain": [
       "<matplotlib.figure.Figure at 0x10c13ef10>"
      ]
     },
     "metadata": {},
     "output_type": "display_data"
    },
    {
     "name": "stdout",
     "output_type": "stream",
     "text": [
      "**************************************************\n",
      "Discrete Variables\n",
      "--------------------------------------------------\n",
      "urban_areas_bool\n",
      "FIRES\n",
      "bool bool\n"
     ]
    },
    {
     "data": {
      "image/png": "[encoded data removed]",
      "text/plain": [
       "<matplotlib.figure.Figure at 0x10c431210>"
      ]
     },
     "metadata": {},
     "output_type": "display_data"
    },
    {
     "name": "stdout",
     "output_type": "stream",
     "text": [
      "NON FIRES\n"
     ]
    },
    {
     "data": {
      "image/png": "[encoded data removed]",
      "text/plain": [
       "<matplotlib.figure.Figure at 0x10b8e6a50>"
      ]
     },
     "metadata": {},
     "output_type": "display_data"
    },
    {
     "name": "stdout",
     "output_type": "stream",
     "text": [
      "--------------------------------------------------\n",
      "month\n",
      "FIRES\n",
      "int64 int64\n"
     ]
    },
    {
     "data": {
      "image/png": "[encoded data removed]",
      "text/plain": [
       "<matplotlib.figure.Figure at 0x114420150>"
      ]
     },
     "metadata": {},
     "output_type": "display_data"
    },
    {
     "name": "stdout",
     "output_type": "stream",
     "text": [
      "NON FIRES\n"
     ]
    },
    {
     "data": {
      "image/png": "[encoded data removed]",
      "text/plain": [
       "<matplotlib.figure.Figure at 0x10b317d50>"
      ]
     },
     "metadata": {},
     "output_type": "display_data"
    }
   ],
   "source": [
    "plotting_func(2013)"
   ]
  },
  {
   "cell_type": "code",
   "execution_count": 40,
   "metadata": {
    "collapsed": false,
    "scrolled": true
   },
   "outputs": [
    {
     "name": "stdout",
     "output_type": "stream",
     "text": [
      "**************************************************\n",
      "Continuous Variables\n",
      "--------------------------------------------------\n",
      "lat\n",
      "FIRES\n"
     ]
    },
    {
     "data": {
      "image/png": "[encoded data removed]",
      "text/plain": [
       "<matplotlib.figure.Figure at 0x10f1d48d0>"
      ]
     },
     "metadata": {},
     "output_type": "display_data"
    },
    {
     "name": "stdout",
     "output_type": "stream",
     "text": [
      "NON FIRES\n"
     ]
    },
    {
     "data": {
      "image/png": "[encoded data removed]",
      "text/plain": [
       "<matplotlib.figure.Figure at 0x10adb4e90>"
      ]
     },
     "metadata": {},
     "output_type": "display_data"
    },
    {
     "name": "stdout",
     "output_type": "stream",
     "text": [
      "--------------------------------------------------\n",
      "long\n",
      "FIRES\n"
     ]
    },
    {
     "data": {
      "image/png": "[encoded data removed]",
      "text/plain": [
       "<matplotlib.figure.Figure at 0x10b7dbf50>"
      ]
     },
     "metadata": {},
     "output_type": "display_data"
    },
    {
     "name": "stdout",
     "output_type": "stream",
     "text": [
      "NON FIRES\n"
     ]
    },
    {
     "data": {
      "image/png": "[encoded data removed]",
      "text/plain": [
       "<matplotlib.figure.Figure at 0x10addd2d0>"
      ]
     },
     "metadata": {},
     "output_type": "display_data"
    },
    {
     "name": "stdout",
     "output_type": "stream",
     "text": [
      "--------------------------------------------------\n",
      "gmt\n",
      "FIRES\n"
     ]
    },
    {
     "data": {
      "image/png": "[encoded data removed]",
      "text/plain": [
       "<matplotlib.figure.Figure at 0x10bba5590>"
      ]
     },
     "metadata": {},
     "output_type": "display_data"
    },
    {
     "name": "stdout",
     "output_type": "stream",
     "text": [
      "NON FIRES\n"
     ]
    },
    {
     "data": {
      "image/png": "[encoded data removed]",
      "text/plain": [
       "<matplotlib.figure.Figure at 0x10bbc3dd0>"
      ]
     },
     "metadata": {},
     "output_type": "display_data"
    },
    {
     "name": "stdout",
     "output_type": "stream",
     "text": [
      "--------------------------------------------------\n",
      "frp\n",
      "FIRES\n"
     ]
    },
    {
     "data": {
      "image/png": "[encoded data removed]",
      "text/plain": [
       "<matplotlib.figure.Figure at 0x10f1d5210>"
      ]
     },
     "metadata": {},
     "output_type": "display_data"
    },
    {
     "name": "stdout",
     "output_type": "stream",
     "text": [
      "NON FIRES\n"
     ]
    },
    {
     "data": {
      "image/png": "[encoded data removed]",
      "text/plain": [
       "<matplotlib.figure.Figure at 0x10c4942d0>"
      ]
     },
     "metadata": {},
     "output_type": "display_data"
    },
    {
     "name": "stdout",
     "output_type": "stream",
     "text": [
      "--------------------------------------------------\n",
      "conf\n",
      "FIRES\n"
     ]
    },
    {
     "data": {
      "image/png": "[encoded data removed]",
      "text/plain": [
       "<matplotlib.figure.Figure at 0x1137646d0>"
      ]
     },
     "metadata": {},
     "output_type": "display_data"
    },
    {
     "name": "stdout",
     "output_type": "stream",
     "text": [
      "NON FIRES\n"
     ]
    },
    {
     "data": {
      "image/png": "[encoded data removed]",
      "text/plain": [
       "<matplotlib.figure.Figure at 0x10b3baa50>"
      ]
     },
     "metadata": {},
     "output_type": "display_data"
    },
    {
     "name": "stdout",
     "output_type": "stream",
     "text": [
      "--------------------------------------------------\n",
      "land_water_ratio\n",
      "FIRES\n"
     ]
    },
    {
     "data": {
      "image/png": "[encoded data removed]",
      "text/plain": [
       "<matplotlib.figure.Figure at 0x115aecf50>"
      ]
     },
     "metadata": {},
     "output_type": "display_data"
    },
    {
     "name": "stdout",
     "output_type": "stream",
     "text": [
      "NON FIRES\n"
     ]
    },
    {
     "data": {
      "image/png": "[encoded data removed]",
      "text/plain": [
       "<matplotlib.figure.Figure at 0x112029c90>"
      ]
     },
     "metadata": {},
     "output_type": "display_data"
    },
    {
     "name": "stdout",
     "output_type": "stream",
     "text": [
      "**************************************************\n",
      "Discrete Variables\n",
      "--------------------------------------------------\n",
      "urban_areas_bool\n",
      "FIRES\n",
      "bool bool\n"
     ]
    },
    {
     "data": {
      "image/png": "[encoded data removed]",
      "text/plain": [
       "<matplotlib.figure.Figure at 0x115aecf10>"
      ]
     },
     "metadata": {},
     "output_type": "display_data"
    },
    {
     "name": "stdout",
     "output_type": "stream",
     "text": [
      "NON FIRES\n"
     ]
    },
    {
     "data": {
      "image/png": "[encoded data removed]",
      "text/plain": [
       "<matplotlib.figure.Figure at 0x10b646b50>"
      ]
     },
     "metadata": {},
     "output_type": "display_data"
    },
    {
     "name": "stdout",
     "output_type": "stream",
     "text": [
      "--------------------------------------------------\n",
      "month\n",
      "FIRES\n",
      "int64 int64\n"
     ]
    },
    {
     "data": {
      "image/png": "[encoded data removed]",
      "text/plain": [
       "<matplotlib.figure.Figure at 0x10af21fd0>"
      ]
     },
     "metadata": {},
     "output_type": "display_data"
    },
    {
     "name": "stdout",
     "output_type": "stream",
     "text": [
      "NON FIRES\n"
     ]
    },
    {
     "data": {
      "image/png": "[encoded data removed]",
      "text/plain": [
       "<matplotlib.figure.Figure at 0x10bb5c410>"
      ]
     },
     "metadata": {},
     "output_type": "display_data"
    }
   ],
   "source": [
    "plotting_func(2014)"
   ]
  },
  {
   "cell_type": "code",
   "execution_count": 41,
   "metadata": {
    "collapsed": false
   },
   "outputs": [
    {
     "name": "stdout",
     "output_type": "stream",
     "text": [
      "**************************************************\n",
      "Continuous Variables\n",
      "--------------------------------------------------\n",
      "lat\n",
      "FIRES\n"
     ]
    },
    {
     "data": {
      "image/png": "[encoded data removed]",
      "text/plain": [
       "<matplotlib.figure.Figure at 0x10e1e9b10>"
      ]
     },
     "metadata": {},
     "output_type": "display_data"
    },
    {
     "name": "stdout",
     "output_type": "stream",
     "text": [
      "NON FIRES\n"
     ]
    },
    {
     "data": {
      "image/png": "[encoded data removed]",
      "text/plain": [
       "<matplotlib.figure.Figure at 0x10c4083d0>"
      ]
     },
     "metadata": {},
     "output_type": "display_data"
    },
    {
     "name": "stdout",
     "output_type": "stream",
     "text": [
      "--------------------------------------------------\n",
      "long\n",
      "FIRES\n"
     ]
    },
    {
     "data": {
      "image/png": "[encoded data removed]",
      "text/plain": [
       "<matplotlib.figure.Figure at 0x10e1e9a50>"
      ]
     },
     "metadata": {},
     "output_type": "display_data"
    },
    {
     "name": "stdout",
     "output_type": "stream",
     "text": [
      "NON FIRES\n"
     ]
    },
    {
     "data": {
      "image/png": "[encoded data removed]",
      "text/plain": [
       "<matplotlib.figure.Figure at 0x10f1c1410>"
      ]
     },
     "metadata": {},
     "output_type": "display_data"
    },
    {
     "name": "stdout",
     "output_type": "stream",
     "text": [
      "--------------------------------------------------\n",
      "gmt\n",
      "FIRES\n"
     ]
    },
    {
     "data": {
      "image/png": "[encoded data removed]",
      "text/plain": [
       "<matplotlib.figure.Figure at 0x10b5a28d0>"
      ]
     },
     "metadata": {},
     "output_type": "display_data"
    },
    {
     "name": "stdout",
     "output_type": "stream",
     "text": [
      "NON FIRES\n"
     ]
    },
    {
     "data": {
      "image/png": "[encoded data removed]",
      "text/plain": [
       "<matplotlib.figure.Figure at 0x10c3f1350>"
      ]
     },
     "metadata": {},
     "output_type": "display_data"
    },
    {
     "name": "stdout",
     "output_type": "stream",
     "text": [
      "--------------------------------------------------\n",
      "frp\n",
      "FIRES\n"
     ]
    },
    {
     "data": {
      "image/png": "[encoded data removed]",
      "text/plain": [
       "<matplotlib.figure.Figure at 0x10b005ed0>"
      ]
     },
     "metadata": {},
     "output_type": "display_data"
    },
    {
     "name": "stdout",
     "output_type": "stream",
     "text": [
      "NON FIRES\n"
     ]
    },
    {
     "data": {
      "image/png": "[encoded data removed]",
      "text/plain": [
       "<matplotlib.figure.Figure at 0x10bb5c650>"
      ]
     },
     "metadata": {},
     "output_type": "display_data"
    },
    {
     "name": "stdout",
     "output_type": "stream",
     "text": [
      "--------------------------------------------------\n",
      "conf\n",
      "FIRES\n"
     ]
    },
    {
     "data": {
      "image/png": "[encoded data removed]",
      "text/plain": [
       "<matplotlib.figure.Figure at 0x10e1e9550>"
      ]
     },
     "metadata": {},
     "output_type": "display_data"
    },
    {
     "name": "stdout",
     "output_type": "stream",
     "text": [
      "NON FIRES\n"
     ]
    },
    {
     "data": {
      "image/png": "[encoded data removed]",
      "text/plain": [
       "<matplotlib.figure.Figure at 0x10c11d2d0>"
      ]
     },
     "metadata": {},
     "output_type": "display_data"
    },
    {
     "name": "stdout",
     "output_type": "stream",
     "text": [
      "--------------------------------------------------\n",
      "land_water_ratio\n",
      "FIRES\n"
     ]
    },
    {
     "data": {
      "image/png": "[encoded data removed]",
      "text/plain": [
       "<matplotlib.figure.Figure at 0x10b67b790>"
      ]
     },
     "metadata": {},
     "output_type": "display_data"
    },
    {
     "name": "stdout",
     "output_type": "stream",
     "text": [
      "NON FIRES\n"
     ]
    },
    {
     "data": {
      "image/png": "[encoded data removed]",
      "text/plain": [
       "<matplotlib.figure.Figure at 0x10af21b10>"
      ]
     },
     "metadata": {},
     "output_type": "display_data"
    },
    {
     "name": "stdout",
     "output_type": "stream",
     "text": [
      "**************************************************\n",
      "Discrete Variables\n",
      "--------------------------------------------------\n",
      "urban_areas_bool\n",
      "FIRES\n",
      "bool bool\n"
     ]
    },
    {
     "data": {
      "image/png": "[encoded data removed]",
      "text/plain": [
       "<matplotlib.figure.Figure at 0x114419c90>"
      ]
     },
     "metadata": {},
     "output_type": "display_data"
    },
    {
     "name": "stdout",
     "output_type": "stream",
     "text": [
      "NON FIRES\n"
     ]
    },
    {
     "data": {
      "image/png": "[encoded data removed]",
      "text/plain": [
       "<matplotlib.figure.Figure at 0x10c3e8610>"
      ]
     },
     "metadata": {},
     "output_type": "display_data"
    },
    {
     "name": "stdout",
     "output_type": "stream",
     "text": [
      "--------------------------------------------------\n",
      "month\n",
      "FIRES\n",
      "int64 int64\n"
     ]
    },
    {
     "data": {
      "image/png": "[encoded data removed]",
      "text/plain": [
       "<matplotlib.figure.Figure at 0x10b9e9ed0>"
      ]
     },
     "metadata": {},
     "output_type": "display_data"
    },
    {
     "name": "stdout",
     "output_type": "stream",
     "text": [
      "NON FIRES\n"
     ]
    },
    {
     "data": {
      "image/png": "[encoded data removed]",
      "text/plain": [
       "<matplotlib.figure.Figure at 0x10af58610>"
      ]
     },
     "metadata": {},
     "output_type": "display_data"
    }
   ],
   "source": [
    "plotting_func(2015)"
   ]
  },
  {
   "cell_type": "code",
   "execution_count": null,
   "metadata": {
    "collapsed": true
   },
   "outputs": [],
   "source": []
  }
 ],
 "metadata": {
  "kernelspec": {
   "display_name": "Python 2",
   "language": "python",
   "name": "python2"
  },
  "language_info": {
   "codemirror_mode": {
    "name": "ipython",
    "version": 2
   },
   "file_extension": ".py",
   "mimetype": "text/x-python",
   "name": "python",
   "nbconvert_exporter": "python",
   "pygments_lexer": "ipython2",
   "version": "2.7.10"
  }
 },
 "nbformat": 4,
 "nbformat_minor": 0
}
