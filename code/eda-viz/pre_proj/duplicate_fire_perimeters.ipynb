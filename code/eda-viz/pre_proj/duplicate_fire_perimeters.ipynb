{
 "cells": [
  {
   "cell_type": "markdown",
   "metadata": {},
   "source": [
    "It turns out that in some of the perimeter boundary file for fires, there are duplicate entries if I group by fire name and date. I need to figure out what is going with those - if I merge on the detected fires to the perimeter boundary files by date and gemoetry, some detected fires end up merging to two different boundaries, which creates what appear to be duplicate entries. Before dropping what appear to be duplicate perimeter boundaries for the same fire, I need to figure out why there are two different rows in the data for these fires. Is it because two different sources reported the same fire boundary, or what?"
   ]
  },
  {
   "cell_type": "code",
   "execution_count": 14,
   "metadata": {
    "collapsed": true
   },
   "outputs": [],
   "source": [
    "import psycopg2\n",
    "import numpy as np"
   ]
  },
  {
   "cell_type": "code",
   "execution_count": 15,
   "metadata": {
    "collapsed": false
   },
   "outputs": [],
   "source": [
    "conn = psycopg2.connect(dbname='forest_fires')\n",
    "c = conn.cursor()"
   ]
  },
  {
   "cell_type": "code",
   "execution_count": 16,
   "metadata": {
    "collapsed": false
   },
   "outputs": [
    {
     "data": {
      "text/plain": [
       "[(16L, 'Douglas Complex', datetime.date(2013, 8, 4)),\n",
       " (16L, 'Douglas Complex', datetime.date(2013, 8, 13)),\n",
       " (16L, 'Douglas Complex', datetime.date(2013, 8, 5)),\n",
       " (15L, 'Douglas Complex', datetime.date(2013, 8, 2)),\n",
       " (12L, 'Douglas Complex', datetime.date(2013, 8, 9)),\n",
       " (12L, 'Douglas Complex', datetime.date(2013, 8, 11)),\n",
       " (11L, 'Douglas Complex', datetime.date(2013, 7, 30)),\n",
       " (10L, 'Whiskey Complex', datetime.date(2013, 8, 7)),\n",
       " (10L, 'Government Flats Complex', datetime.date(2013, 8, 19)),\n",
       " (10L, 'Corral Complex', datetime.date(2013, 8, 12)),\n",
       " (9L, 'West Fork Complex', datetime.date(2013, 7, 7)),\n",
       " (9L, 'Douglas Complex', datetime.date(2013, 8, 19)),\n",
       " (9L, 'Big Windy Complex', datetime.date(2013, 8, 3)),\n",
       " (9L, 'Douglas Complex', datetime.date(2013, 8, 18)),\n",
       " (9L, 'Government Flats Complex', datetime.date(2013, 8, 21)),\n",
       " (9L, 'Douglas Complex', datetime.date(2013, 7, 31)),\n",
       " (9L, 'Big Windy Complex', datetime.date(2013, 8, 5)),\n",
       " (8L, 'Corral Complex', datetime.date(2013, 8, 15)),\n",
       " (8L, 'Government Flats Complex', datetime.date(2013, 8, 23)),\n",
       " (8L, 'Druid Complex', datetime.date(2013, 8, 30))]"
      ]
     },
     "execution_count": 16,
     "metadata": {},
     "output_type": "execute_result"
    }
   ],
   "source": [
    "# Grab the fire names for 2013 that have the highest number of obs per fire_name and date.\n",
    "c.execute('''SELECT COUNT(fire_name) as total, fire_name, date_\n",
    "            FROM daily_fire_shapefiles_2013 \n",
    "            GROUP BY fire_name, date_\n",
    "            ORDER BY total DESC\n",
    "            LIMIT 20; ''')\n",
    "c.fetchall()"
   ]
  },
  {
   "cell_type": "code",
   "execution_count": 17,
   "metadata": {
    "collapsed": false
   },
   "outputs": [
    {
     "name": "stdout",
     "output_type": "stream",
     "text": [
      "acres: [Decimal('5.19000000') Decimal('7.82000000') Decimal('9.36000000')\n",
      " Decimal('14.43000000') Decimal('244.75000000') Decimal('2200.27000000')\n",
      " Decimal('15768.88000000') Decimal('16356.72000000')\n",
      " Decimal('19608.00000000') Decimal('20059.75000000')]\n",
      "agency: ['State Agency']\n",
      "time_: ['0040' '1130' '1330']\n",
      "comments: [None]\n",
      "year_: ['2013']\n",
      "active: ['N']\n",
      "unit_id: ['OR-73S']\n",
      "fire_num: ['HSG9']\n",
      "fire: ['Brimstone' 'Dads Creek' 'Farmers' 'Malone' 'Malone Creek' 'McNab' 'Milo'\n",
      " 'Rabbit Mountain' 'Tom East']\n",
      "load_date: [datetime.date(2013, 8, 5) datetime.date(2013, 8, 21)]\n",
      "inciweb_id: ['3559']\n",
      "st_area_sh: [Decimal('0.00000231') Decimal('0.00000347') Decimal('0.00000416')\n",
      " Decimal('0.00000644') Decimal('0.00010880') Decimal('0.00097647')\n",
      " Decimal('0.00702357') Decimal('0.00728532') Decimal('0.00871746')\n",
      " Decimal('0.00891827')]\n",
      "st_length_: [Decimal('0.00673966') Decimal('0.00725281') Decimal('0.00790847')\n",
      " Decimal('0.01173040') Decimal('0.04025363') Decimal('0.18993042')\n",
      " Decimal('0.77855830') Decimal('0.78459987') Decimal('0.79951530')\n",
      " Decimal('0.85149941')]\n",
      "st_area__1: [Decimal('0.00000231') Decimal('0.00000347') Decimal('0.00000416')\n",
      " Decimal('0.00000644') Decimal('0.00010880') Decimal('0.00097647')\n",
      " Decimal('0.00702357') Decimal('0.00728532') Decimal('0.00871746')\n",
      " Decimal('0.00891827')]\n",
      "st_length1: [Decimal('0.00673966') Decimal('0.00725281') Decimal('0.00790847')\n",
      " Decimal('0.01173040') Decimal('0.04025363') Decimal('0.18993042')\n",
      " Decimal('0.77855830') Decimal('0.78459988') Decimal('0.79951529')\n",
      " Decimal('0.85149940')]\n",
      "st_area__2: [Decimal('0.00000230593') Decimal('0.00000347424') Decimal('0.00000415763')\n",
      " Decimal('0.00000643675') Decimal('0.00010879588') Decimal('0.00097647085')\n",
      " Decimal('0.00702357330') Decimal('0.00728532483') Decimal('0.00871745927')\n",
      " Decimal('0.00891827136')]\n",
      "st_lengt_1: [Decimal('0.00673966295') Decimal('0.00725281262') Decimal('0.00790846645')\n",
      " Decimal('0.01173040420') Decimal('0.04025363499') Decimal('0.18993042281')\n",
      " Decimal('0.77855829562') Decimal('0.78459987626') Decimal('0.79951529190')\n",
      " Decimal('0.85149939574')]\n"
     ]
    }
   ],
   "source": [
    "# Now let's look at a a couple of these and see whats different. SELECT * \n",
    "# won't work below because there is a field that returns all blanks and \n",
    "# causes an error. \n",
    "columns = ['acres', 'agency', 'time_', 'comments', 'year_', 'active', \n",
    "          'unit_id', 'fire_num', 'fire', 'load_date', 'inciweb_id', \n",
    "          'st_area_sh', 'st_length_', 'st_area__1', 'st_length1', \n",
    "          'st_area__2', 'st_lengt_1']\n",
    "for column in columns: \n",
    "    c.execute('''SELECT ''' + column + '''\n",
    "                FROM daily_fire_shapefiles_2013 \n",
    "                WHERE fire_name = 'Douglas Complex' and date_ = '2013-8-4'; ''')\n",
    "    print column + ':', np.unique(c.fetchall())"
   ]
  },
  {
   "cell_type": "markdown",
   "metadata": {},
   "source": [
    "Upon first glance what it looks like is that there are multiple entries per fire name because there are different parts of the fire. If we look at 'fire' variable above we see a number of different names - ['Brimstone' 'Dads Creek' 'Farmers' 'Malone' 'Malone Creek' 'McNab' 'Milo'\n",
    " 'Rabbit Mountain' 'Tom East']. With some googling we can tell that these are different parts/areas of the same fire. Let's look at 2014 and check one ob. there to (a). Just check it out, and (b.) Kind of confirm that what I think is true is true in another year. "
   ]
  },
  {
   "cell_type": "code",
   "execution_count": 18,
   "metadata": {
    "collapsed": false
   },
   "outputs": [
    {
     "data": {
      "text/plain": [
       "[(29L, 'July Complex', datetime.date(2014, 8, 27)),\n",
       " (23L, 'July Complex', datetime.date(2014, 9, 2)),\n",
       " (23L, 'Happy Camp Complex', datetime.date(2014, 9, 5)),\n",
       " (20L, 'Happy Camp Complex', datetime.date(2014, 8, 17)),\n",
       " (19L, 'July Complex', datetime.date(2014, 8, 17)),\n",
       " (18L, 'Deception Creek Complex', datetime.date(2014, 9, 3)),\n",
       " (18L, 'July Complex', datetime.date(2014, 8, 18)),\n",
       " (17L, 'Happy Camp Complex', datetime.date(2014, 9, 9)),\n",
       " (17L, 'July Complex', datetime.date(2014, 9, 8)),\n",
       " (17L, 'July Complex', datetime.date(2014, 8, 28)),\n",
       " (16L, 'Happy Camp Complex', datetime.date(2014, 9, 2)),\n",
       " (16L, 'July Complex', datetime.date(2014, 8, 19)),\n",
       " (15L, 'Deception Creek Complex', datetime.date(2014, 8, 26)),\n",
       " (14L, 'July Complex', datetime.date(2014, 8, 29)),\n",
       " (14L, 'Chiwaukum Complex', datetime.date(2014, 8, 15)),\n",
       " (14L, 'July Complex', datetime.date(2014, 8, 22)),\n",
       " (13L, 'Happy Camp Complex', datetime.date(2014, 9, 8)),\n",
       " (13L, 'Happy Camp Complex', datetime.date(2014, 8, 23)),\n",
       " (13L, 'Happy Camp Complex', datetime.date(2014, 8, 26)),\n",
       " (12L, 'Deception Creek Complex', datetime.date(2014, 9, 4))]"
      ]
     },
     "execution_count": 18,
     "metadata": {},
     "output_type": "execute_result"
    }
   ],
   "source": [
    "# Grab the fire names for 2014 that have the highest number of obs per fire_name and date.\n",
    "c.execute('''SELECT COUNT(fire_name) as total, fire_name, date_\n",
    "            FROM daily_fire_shapefiles_2014 \n",
    "            GROUP BY fire_name, date_\n",
    "            ORDER BY total DESC\n",
    "            LIMIT 20; ''')\n",
    "c.fetchall()"
   ]
  },
  {
   "cell_type": "code",
   "execution_count": 19,
   "metadata": {
    "collapsed": false
   },
   "outputs": [
    {
     "name": "stdout",
     "output_type": "stream",
     "text": [
      "acres: [Decimal('0.03000000') Decimal('0.07000000') Decimal('1.24000000')\n",
      " Decimal('1.81000000') Decimal('1.90000000') Decimal('2.43000000')\n",
      " Decimal('3.03000000') Decimal('3.13000000') Decimal('3.48000000')\n",
      " Decimal('7.18000000') Decimal('16.63000000') Decimal('20.82000000')\n",
      " Decimal('2209.04000000') Decimal('3633.95000000')\n",
      " Decimal('33752.02000000') Decimal('39300.11000000')\n",
      " Decimal('39417.94000000')]\n",
      "agency: ['USFS']\n",
      "time_: ['0037' '1553' '2249']\n",
      "comments: [None 'IR heat perimeter']\n",
      "year_: ['2014']\n",
      "active: ['N']\n",
      "unit_id: ['CA-KNF']\n",
      "fire_num: ['H91E']\n",
      "fire: [None 'Crapo' 'Devil' 'F2_1' 'F2_2' 'F3' 'Gem' 'Jewel' 'Leef' 'Log' 'Man'\n",
      " 'Rays Peak' 'Shelly' 'Summit' 'Trail' 'Whites']\n",
      "load_date: [datetime.date(2014, 8, 27) datetime.date(2014, 8, 28)]\n",
      "inciweb_id: ['4035']\n",
      "st_area_sh: [Decimal('1.287E-8') Decimal('2.922E-8') Decimal('5.4275E-7')\n",
      " Decimal('7.9211E-7') Decimal('8.2960E-7') Decimal('0.00000106254')\n",
      " Decimal('0.00000132234') Decimal('0.00000136810') Decimal('0.00000151818')\n",
      " Decimal('0.00000314064') Decimal('0.00000723357') Decimal('0.00000903017')\n",
      " Decimal('0.00096518114') Decimal('0.00158808141') Decimal('0.01469963092')\n",
      " Decimal('0.01712388255') Decimal('0.01717538636')]\n",
      "st_length_: [Decimal('0.00048358282') Decimal('0.00069871867') Decimal('0.00329808930')\n",
      " Decimal('0.00378741917') Decimal('0.00470254679') Decimal('0.00472474920')\n",
      " Decimal('0.00510627803') Decimal('0.00557438362') Decimal('0.00560781281')\n",
      " Decimal('0.00961539380') Decimal('0.01943592077') Decimal('0.01952187193')\n",
      " Decimal('0.25169083765') Decimal('0.36301166022') Decimal('1.37045526992')\n",
      " Decimal('1.89193477638') Decimal('1.94454149434')]\n"
     ]
    }
   ],
   "source": [
    "# Now let's look at a a couple of these and see whats different. SELECT * \n",
    "# won't work below because there is a field that returns all blanks and \n",
    "# causes an error. The columns also aren't the same in 2014 as they are in 2013. \n",
    "columns = ['acres', 'agency', 'time_', 'comments', 'year_', 'active', \n",
    "          'unit_id', 'fire_num', 'fire', 'load_date', 'inciweb_id', \n",
    "          'st_area_sh', 'st_length_']\n",
    "for column in columns: \n",
    "    c.execute('''SELECT ''' + column + '''\n",
    "                FROM daily_fire_shapefiles_2014 \n",
    "                WHERE fire_name = 'July Complex' and date_ = '2014-8-27'; ''')\n",
    "    print column + ':', np.unique(c.fetchall())"
   ]
  },
  {
   "cell_type": "markdown",
   "metadata": {},
   "source": [
    "Cool - the 2014 data seems to tell the same story. "
   ]
  },
  {
   "cell_type": "code",
   "execution_count": null,
   "metadata": {
    "collapsed": true
   },
   "outputs": [],
   "source": []
  }
 ],
 "metadata": {
  "kernelspec": {
   "display_name": "Python 2",
   "language": "python",
   "name": "python2"
  },
  "language_info": {
   "codemirror_mode": {
    "name": "ipython",
    "version": 2
   },
   "file_extension": ".py",
   "mimetype": "text/x-python",
   "name": "python",
   "nbconvert_exporter": "python",
   "pygments_lexer": "ipython2",
   "version": "2.7.11"
  }
 },
 "nbformat": 4,
 "nbformat_minor": 0
}
